{
  "nbformat": 4,
  "nbformat_minor": 0,
  "metadata": {
    "accelerator": "GPU",
    "colab": {
      "name": "cardexExploratoryByDate.ipynb",
      "provenance": [],
      "collapsed_sections": [
        "_Hr5XoYN7HSX",
        "jaGnZQIVXFsT",
        "ZnNFlW1AdwdV",
        "jlPezPnr-TbQ",
        "8w-AjBxDUINb",
        "eJ9M_jbfYT-u",
        "Ltf9oP0LaEGK"
      ],
      "authorship_tag": "ABX9TyMwR6FsLdNHKbn7YqbgfCnn",
      "include_colab_link": true
    },
    "kernelspec": {
      "display_name": "Python 3",
      "name": "python3"
    },
    "language_info": {
      "name": "python"
    }
  },
  "cells": [
    {
      "cell_type": "markdown",
      "metadata": {
        "id": "view-in-github",
        "colab_type": "text"
      },
      "source": [
        "<a href=\"https://colab.research.google.com/github/JoseMa39/adgCardexHotels/blob/main/cardexExploratoryByDate.ipynb\" target=\"_parent\"><img src=\"https://colab.research.google.com/assets/colab-badge.svg\" alt=\"Open In Colab\"/></a>"
      ]
    },
    {
      "cell_type": "markdown",
      "metadata": {
        "id": "OmIgj1lUrlfi"
      },
      "source": [
        "# Configuración googleDrive\n"
      ]
    },
    {
      "cell_type": "code",
      "metadata": {
        "id": "FRWIURLBrx8s"
      },
      "source": [
        "import pandas as pd\n",
        "import numpy as np\n",
        "from plotnine import *\n",
        "from google.colab import data_table\n",
        "\n",
        "import seaborn as sns\n",
        "import matplotlib.pyplot as plt\n",
        "from plotnine.data import mtcars\n",
        "\n",
        "pd.options.display.float_format = '{:.2f}'.format"
      ],
      "execution_count": 1,
      "outputs": []
    },
    {
      "cell_type": "code",
      "metadata": {
        "colab": {
          "base_uri": "https://localhost:8080/"
        },
        "id": "ydb-SrxCr6n5",
        "outputId": "595c6bb0-eb3f-48cd-e08b-74a766b30c66"
      },
      "source": [
        "from google.colab import drive\n",
        "drive.mount('/content/drive')"
      ],
      "execution_count": 2,
      "outputs": [
        {
          "output_type": "stream",
          "name": "stdout",
          "text": [
            "Drive already mounted at /content/drive; to attempt to forcibly remount, call drive.mount(\"/content/drive\", force_remount=True).\n"
          ]
        }
      ]
    },
    {
      "cell_type": "code",
      "metadata": {
        "id": "fbAbYuiRv7Z1"
      },
      "source": [
        "paths = [\"./drive/MyDrive/adgTravel/upselling/cardex.csv\", \"./drive/MyDrive/adgTravel/upselling/pwcJune.csv\"]"
      ],
      "execution_count": 3,
      "outputs": []
    },
    {
      "cell_type": "markdown",
      "metadata": {
        "id": "U1lti1lksDkF"
      },
      "source": [
        "# Cargando Dataframes"
      ]
    },
    {
      "cell_type": "code",
      "metadata": {
        "id": "Lks0tJB3xycj"
      },
      "source": [
        "def loadDfs(paths):\n",
        "  dfArray = []\n",
        "  for path in paths:\n",
        "    dfArray.append(pd.read_csv(path))\n",
        "  return dfArray"
      ],
      "execution_count": 4,
      "outputs": []
    },
    {
      "cell_type": "code",
      "metadata": {
        "id": "P_nnkHV8sGUK"
      },
      "source": [
        "def joinDF(dfArray):\n",
        "  if (len(dfArray))< 1:\n",
        "    raise Exception(\"Sorry, at least one df is required\")\n",
        "  \n",
        "  dfResult = dfArray[0]\n",
        "  for index in range(1,len(dfArray)):\n",
        "    dfResult = dfResult.append(dfArray[index])\n",
        "  dfResult = dfResult.reset_index()\n",
        "  return dfResult.drop_duplicates(subset=['Clave','Documento', 'Nombre', 'Apellido1', 'Venta', 'Entrada', 'Salida', 'Reserva', \"Linea\", \"Numero\"], keep='last')\n",
        "    "
      ],
      "execution_count": 5,
      "outputs": []
    },
    {
      "cell_type": "code",
      "metadata": {
        "id": "VP9PmGGn1l_g"
      },
      "source": [
        "def loadIntoOneDf(dfArray):\n",
        "  return joinDF(dfArray)"
      ],
      "execution_count": 6,
      "outputs": []
    },
    {
      "cell_type": "markdown",
      "metadata": {
        "id": "5mewN3y_12K7"
      },
      "source": [
        "# Clasificando datos"
      ]
    },
    {
      "cell_type": "code",
      "metadata": {
        "id": "p70Ihcpe14eq"
      },
      "source": [
        "def classifyingDF(df:pd.DataFrame):\n",
        "  df[\"ID_HASH\"] = df[\"Documento\"].fillna(\"\") + df[\"Nombre\"].fillna(\"\") + df[\"Apellido1\"].fillna(\"\")\n",
        "  df[\"ID_HASH\"] = df[\"ID_HASH\"].apply(hash)\n",
        "  return df\n",
        "\n",
        "def dropPersonalDataColumns(df):\n",
        "  df = df.drop(['Clave', 'TipoDocumento', 'Documento', 'Nombre', \"Apellido1\", \"Apellido2\"], axis = 1)\n",
        "  return df\n",
        "\n",
        "def classifiedData(df:pd.DataFrame):\n",
        "  return dropPersonalDataColumns(classifyingDF(df))"
      ],
      "execution_count": 7,
      "outputs": []
    },
    {
      "cell_type": "markdown",
      "metadata": {
        "id": "2guM-I4R5yRL"
      },
      "source": [
        "# Columna Sexo"
      ]
    },
    {
      "cell_type": "code",
      "metadata": {
        "id": "hWHm4kSc524f"
      },
      "source": [
        "def sexAsCategorical(df:pd.DataFrame):\n",
        "  df[\"Sexo\"] = pd.Categorical(df[\"Sexo\"])\n",
        "  return df"
      ],
      "execution_count": 8,
      "outputs": []
    },
    {
      "cell_type": "markdown",
      "metadata": {
        "id": "XwGvAMm06CoV"
      },
      "source": [
        "# Columna Nacionalidad"
      ]
    },
    {
      "cell_type": "code",
      "metadata": {
        "id": "oMufDELf6FhG"
      },
      "source": [
        "def fixNacionalities(df:pd.DataFrame):\n",
        "  df[\"PaisResidencia\"] = df[\"PaisResidencia\"].fillna(df[\"Nacionalidad\"])\n",
        "  df.loc[df['PaisResidencia']==\"VARIOS\",\"PaisResidencia\"] = df[\"Nacionalidad\"]\n",
        "  df.loc[df['PaisResidencia'] == 'SCG','PaisResidencia'] = 'SRB'\n",
        "  df[\"PaisResidencia\"] = pd.Categorical(df[\"PaisResidencia\"])\n",
        "  df = df.dropna(subset=[\"PaisResidencia\"])\n",
        "  return df"
      ],
      "execution_count": 9,
      "outputs": []
    },
    {
      "cell_type": "code",
      "metadata": {
        "id": "gcppMl_x7SVk"
      },
      "source": [
        "def dropNacionalitiesColumns(df):\n",
        "  df = df.drop(['Nacionalidad', 'CodigoPostal', 'Localizador', \"Tarifa\"], axis = 1)\n",
        "  return df"
      ],
      "execution_count": 10,
      "outputs": []
    },
    {
      "cell_type": "markdown",
      "metadata": {
        "id": "-ICJcA5o7zBC"
      },
      "source": [
        "## Recodificando pais por regiones"
      ]
    },
    {
      "cell_type": "code",
      "metadata": {
        "id": "mQWh5ic073B8"
      },
      "source": [
        "def unifiedNacionalities(df:pd.DataFrame, infLimit = 200):\n",
        "  countryCodesDf = pd.read_csv(\"./drive/MyDrive/adgTravel/upselling/countriesByRegion.csv\", usecols=['alpha-3', 'sub-region', 'intermediate-region'], index_col=['alpha-3'])\n",
        "\n",
        "  countryCodesIsNullDf = countryCodesDf.isnull()\n",
        "  dfGroupByCountry = df['PaisResidencia'].value_counts()\n",
        "\n",
        "  def fillCountryWithRegion(row):\n",
        "    if(dfGroupByCountry[row]>infLimit or row == \"VARIOS\"):\n",
        "      return row\n",
        "    if(not countryCodesIsNullDf.loc[row]['intermediate-region']):\n",
        "      return countryCodesDf.loc[row]['intermediate-region']\n",
        "    return countryCodesDf.loc[row]['sub-region']\n",
        "  \n",
        "  df[\"PaisResidencia\"] = df[\"PaisResidencia\"].apply(fillCountryWithRegion)\n",
        "  return df"
      ],
      "execution_count": 11,
      "outputs": []
    },
    {
      "cell_type": "code",
      "metadata": {
        "id": "JV1VwgDW7aKs"
      },
      "source": [
        "def fixNacionalitiesAndDropColumns(df:pd.DataFrame):\n",
        "  return unifiedNacionalities(dropNacionalitiesColumns(fixNacionalities(df)))"
      ],
      "execution_count": 12,
      "outputs": []
    },
    {
      "cell_type": "markdown",
      "metadata": {
        "id": "LhsyILI4-evk"
      },
      "source": [
        "# Columna Fecha de Nacimiento"
      ]
    },
    {
      "cell_type": "code",
      "metadata": {
        "id": "uFMZfUNJ-iLA"
      },
      "source": [
        "def fixingBirthDates(date):\n",
        "  if((not isinstance(date, str)) or date==\"NaN\" or date==\"nan\"):\n",
        "    return date\n",
        "  dateSplitted = date.split(\"/\")\n",
        "  year = int(dateSplitted[2])\n",
        "  if year < 1900:\n",
        "    year += 100 * ((2000 - year)//100)\n",
        "  return f\"{dateSplitted[0]}/{dateSplitted[1]}/{year}\"\n",
        "\n",
        "def fixingBirthday(df: pd.DataFrame):\n",
        "  df[\"FechaNacimiento\"] = df[\"FechaNacimiento\"].apply(fixingBirthDates)\n",
        "  return df\n",
        "\n"
      ],
      "execution_count": 13,
      "outputs": []
    },
    {
      "cell_type": "markdown",
      "metadata": {
        "id": "OdiTAXU4-8s0"
      },
      "source": [
        "# EDAD"
      ]
    },
    {
      "cell_type": "code",
      "metadata": {
        "id": "sxhBRSVq_AH8"
      },
      "source": [
        "def calculateAge(row):\n",
        "  birthYear = int(row['FechaNacimiento'].split('/')[2])\n",
        "  bookYear = int(row['Venta'].split('/')[2])\n",
        "  return bookYear - birthYear\n",
        "\n",
        "def getAgeRange(row):\n",
        "  if(row.isnull().any()):\n",
        "    return \"NaN\"\n",
        "  return calculateAge(row)\n",
        "  \n",
        "def calculateAgeDf(df:pd.DataFrame):\n",
        "  df[\"Edad\"] = df[[\"FechaNacimiento\", \"Venta\"]].apply(getAgeRange, axis=1)\n",
        "  df[\"Edad\"] = pd.to_numeric(df[\"Edad\"], errors=\"coerce\", downcast=\"signed\")\n",
        "  return df"
      ],
      "execution_count": 14,
      "outputs": []
    },
    {
      "cell_type": "markdown",
      "metadata": {
        "id": "1r74_R0zJvwX"
      },
      "source": [
        "#columna de cant de dias de la reserva"
      ]
    },
    {
      "cell_type": "code",
      "metadata": {
        "id": "z97S6yAaJz87"
      },
      "source": [
        "from datetime import date\n",
        "import time\n",
        "\n",
        "def amountOfDays(startDate, endDate):\n",
        "  startDate = startDate.split(\"/\")\n",
        "  endDate = endDate.split(\"/\")\n",
        "  startDate= date(int(startDate[2]),int(startDate[0]),int(startDate[1]))\n",
        "  endDate= date(int(endDate[2]),int(endDate[0]),int(endDate[1]))\n",
        "  return (endDate - startDate).days\n",
        "\n",
        "def getAmountOfDaysOfBooking(row):\n",
        "  if(row.isnull().any()):\n",
        "    return \"NaN\"\n",
        "  result = amountOfDays(row[\"Entrada\"], row[\"Salida\"])\n",
        "  return max(1, result)\n",
        "\n",
        "def addBookingDuration(df: pd.DataFrame):\n",
        "  df[\"DiasReserva\"] = df[[\"Entrada\", \"Salida\"]].apply(getAmountOfDaysOfBooking, axis=1)\n",
        "  df[\"DiasReserva\"] = pd.to_numeric(df[\"DiasReserva\"], errors=\"coerce\", downcast=\"signed\")\n",
        "  return df"
      ],
      "execution_count": 15,
      "outputs": []
    },
    {
      "cell_type": "markdown",
      "metadata": {
        "id": "TcoQrcEJLGNp"
      },
      "source": [
        "# Dias entre reserva entrada"
      ]
    },
    {
      "cell_type": "code",
      "metadata": {
        "id": "AZ69EiO1LIwT"
      },
      "source": [
        "def getAmountOfDaysAfterBooking(row):\n",
        "  if(row.isnull().any()):\n",
        "    return \"NaN\"\n",
        "  result = amountOfDays(row[\"Venta\"], row[\"Entrada\"])\n",
        "  return result if result > 0 else 0\n",
        "\n",
        "def addDaysBeforeBooking(df:pd.DataFrame):\n",
        "  df[\"DiasEntreReservaEntrada\"] = df[[\"Entrada\", \"Venta\"]].apply(getAmountOfDaysAfterBooking, axis=1)\n",
        "  df[\"DiasEntreReservaEntrada\"] = pd.to_numeric(df[\"DiasEntreReservaEntrada\"], errors=\"coerce\", downcast=\"signed\")\n",
        "  return df"
      ],
      "execution_count": 16,
      "outputs": []
    },
    {
      "cell_type": "markdown",
      "metadata": {
        "id": "H-K7Bs7kLy8o"
      },
      "source": [
        "# Columna Venta"
      ]
    },
    {
      "cell_type": "code",
      "metadata": {
        "id": "FLrXZPSAL2_d"
      },
      "source": [
        "def fixingBookingDates(date):\n",
        "  if(date==\"NaN\"):\n",
        "    return date\n",
        "  dateSplitted = date.split(\"/\")\n",
        "  return f\"{dateSplitted[0]}/{dateSplitted[1]}/{int(dateSplitted[2])+10}\"\n",
        "\n",
        "def fixingVentaColumn(df:pd.DataFrame):\n",
        "  df.loc[df[\"DiasEntreReservaEntrada\"] > 1000,[\"Venta\"]] = df[df[\"DiasEntreReservaEntrada\"] > 1000][\"Venta\"].apply(fixingBookingDates)\n",
        "  df.loc[df[\"DiasEntreReservaEntrada\"] > 1000,[\"DiasEntreReservaEntrada\"]] = df.loc[df[\"DiasEntreReservaEntrada\"] > 1000,[\"Venta\",\"Entrada\"]].apply(getAmountOfDaysAfterBooking , axis=1)\n",
        "  return df"
      ],
      "execution_count": 17,
      "outputs": []
    },
    {
      "cell_type": "markdown",
      "metadata": {
        "id": "Jvaj9gj2NnJX"
      },
      "source": [
        "# Columna Mes Entrada"
      ]
    },
    {
      "cell_type": "code",
      "metadata": {
        "id": "Cw-bABZPNsIF"
      },
      "source": [
        "def addMonthColumn(df):\n",
        "  df[\"MesEntrada\"] = df[\"Entrada\"].apply(lambda date: date.split(\"/\")[0])\n",
        "  df[\"MesEntrada\"] = pd.Categorical(df[\"MesEntrada\"])\n",
        "  return df"
      ],
      "execution_count": 18,
      "outputs": []
    },
    {
      "cell_type": "markdown",
      "metadata": {
        "id": "_Hr5XoYN7HSX"
      },
      "source": [
        "# Columna facturado"
      ]
    },
    {
      "cell_type": "code",
      "metadata": {
        "id": "uiGzHK_u7Co7"
      },
      "source": [
        "def filteringFacturadoColumn(df:pd.DataFrame):\n",
        "  df[\"Facturado\"] = pd.to_numeric(df[\"Facturado\"], errors=\"coerce\")\n",
        "  df = df.dropna(subset=[\"Facturado\"])\n",
        "  df = df[df[\"Facturado\"] > 0]\n",
        "  return df\n",
        "\n",
        "def fixingIncomes(dfIncomesFixed:pd.DataFrame):\n",
        "  for hotel in dfIncomesFixed[\"HotelFactura\"].unique():\n",
        "    for thFactura in dfIncomesFixed[dfIncomesFixed[\"HotelFactura\"] == hotel][\"THFactura\"].unique():\n",
        "      if(len(dfIncomesFixed[(dfIncomesFixed[\"HotelFactura\"] == hotel) & (dfIncomesFixed[\"THFactura\"] == thFactura)][\"FacturadoXDia\"])<2):\n",
        "        continue\n",
        "\n",
        "      infLimit = dfIncomesFixed[(dfIncomesFixed[\"HotelFactura\"] == hotel) & (dfIncomesFixed[\"THFactura\"] == thFactura)][\"FacturadoXDia\"].quantile(0.02)\n",
        "      supLimit = dfIncomesFixed[(dfIncomesFixed[\"HotelFactura\"] == hotel) & (dfIncomesFixed[\"THFactura\"] == thFactura)][\"FacturadoXDia\"].quantile(0.98)\n",
        "\n",
        "      mean = dfIncomesFixed[(dfIncomesFixed[\"HotelFactura\"] == hotel) & (dfIncomesFixed[\"THFactura\"] == thFactura) & (dfIncomesFixed[\"FacturadoXDia\"] >= infLimit) & (dfIncomesFixed[\"FacturadoXDia\"] <= supLimit)][\"FacturadoXDia\"].mean()\n",
        "      std = dfIncomesFixed[(dfIncomesFixed[\"HotelFactura\"] == hotel) & (dfIncomesFixed[\"THFactura\"] == thFactura) & (dfIncomesFixed[\"FacturadoXDia\"] >= infLimit) & (dfIncomesFixed[\"FacturadoXDia\"] <= supLimit)][\"FacturadoXDia\"].std()\n",
        "\n",
        "      # rellenando valores fuera de rango con distribucion normal\n",
        "      dfIncomesFixed.loc[(dfIncomesFixed[\"HotelFactura\"] == hotel) & (dfIncomesFixed[\"THFactura\"] == thFactura) & (dfIncomesFixed[\"FacturadoXDia\"] <= infLimit), [\"FacturadoXDia\"]] = np.random.normal(mean, std)\n",
        "    \n",
        "  dfIncomesFixed.loc[:, [\"Facturado\"]] = dfIncomesFixed[\"FacturadoXDia\"] * dfIncomesFixed[\"DiasReserva\"]\n",
        "  return dfIncomesFixed\n",
        "\n",
        "\n",
        "def addFacturadoXDiaColumn(df:pd.DataFrame):\n",
        "  df[\"FacturadoXDia\"] = df[\"Facturado\"] / df[\"DiasReserva\"]\n",
        "  df = fixingIncomes(df)\n",
        "  return df\n",
        "\n",
        "def fixingPayAmountColumns(df:pd.DataFrame):\n",
        "  return addFacturadoXDiaColumn(filteringFacturadoColumn(df))\n"
      ],
      "execution_count": 19,
      "outputs": []
    },
    {
      "cell_type": "markdown",
      "metadata": {
        "id": "jaGnZQIVXFsT"
      },
      "source": [
        "# Columna Email"
      ]
    },
    {
      "cell_type": "code",
      "metadata": {
        "id": "V9VuO6RrXJ_K"
      },
      "source": [
        "def addHasEmailColumn(df):\n",
        "  df[\"Has_Email\"] = df[\"EMail\"].notnull()\n",
        "  return df"
      ],
      "execution_count": 20,
      "outputs": []
    },
    {
      "cell_type": "markdown",
      "metadata": {
        "id": "Z3FrQ42bSeW_"
      },
      "source": [
        "# Limpiando toda la infromación"
      ]
    },
    {
      "cell_type": "code",
      "metadata": {
        "id": "mW-aLTSMJfrS"
      },
      "source": [
        "def cleaningRawData(dfArray):\n",
        "  df= loadIntoOneDf(dfArray)\n",
        "  df = classifiedData(df)\n",
        "  df = sexAsCategorical(df)\n",
        "  df = fixNacionalitiesAndDropColumns(df)\n",
        "  df = fixingBirthday(df)\n",
        "  df = calculateAgeDf(df)\n",
        "  df = addBookingDuration(df)\n",
        "  df = addDaysBeforeBooking(df)\n",
        "  df = fixingVentaColumn(df)\n",
        "  df = addMonthColumn(df)\n",
        "  df = addHasEmailColumn(df)\n",
        "  df = fixingPayAmountColumns(df)\n",
        "  return df\n",
        "\n",
        "\n"
      ],
      "execution_count": 21,
      "outputs": []
    },
    {
      "cell_type": "markdown",
      "metadata": {
        "id": "ck9oE83Iw51e"
      },
      "source": [
        "# Agrupando reservas"
      ]
    },
    {
      "cell_type": "code",
      "metadata": {
        "id": "rd8gkK2hxBoR"
      },
      "source": [
        "def groupByBooking(df: pd.DataFrame):\n",
        "  return df.groupby(['Reserva', 'Linea']).agg(Sexo=pd.NamedAgg(column=\"Sexo\", aggfunc=\"first\"), PaisResidencia=pd.NamedAgg(column=\"PaisResidencia\", aggfunc=\"first\"), \n",
        "                                                    ID_HASH = pd.NamedAgg(column=\"ID_HASH\", aggfunc=\"first\"),\n",
        "                                                    Entrada = pd.NamedAgg(column=\"Entrada\", aggfunc=\"first\"),\n",
        "                                                    Salida = pd.NamedAgg(column=\"Salida\", aggfunc=\"first\"),\n",
        "                                                    AD=pd.NamedAgg(column=\"AD\", aggfunc=\"sum\"),\n",
        "                                                    JR=pd.NamedAgg(column=\"JR\", aggfunc=\"sum\"),\n",
        "                                                    NI=pd.NamedAgg(column=\"NI\", aggfunc=\"sum\"),\n",
        "                                                    CU=pd.NamedAgg(column=\"CU\", aggfunc=\"sum\"),\n",
        "                                                    HotelFactura=pd.NamedAgg(column=\"HotelFactura\", aggfunc=\"first\"),\n",
        "                                                    THFactura=pd.NamedAgg(column=\"THFactura\", aggfunc=\"first\"),\n",
        "                                                    RegimenFactura=pd.NamedAgg(column=\"RegimenFactura\", aggfunc=\"first\"),\n",
        "                                                    Canal=pd.NamedAgg(column=\"Canal\", aggfunc=\"first\"),\n",
        "                                                    Has_Email=pd.NamedAgg(column=\"Has_Email\", aggfunc=\"any\"),\n",
        "                                                    Facturado=pd.NamedAgg(column=\"Facturado\", aggfunc=\"sum\"),\n",
        "                                                    Edad=pd.NamedAgg(column=\"Edad\", aggfunc=\"first\"),\n",
        "                                                    DiasReserva=pd.NamedAgg(column=\"DiasReserva\", aggfunc=\"first\"),\n",
        "                                                    DiasEntreReservaEntrada=pd.NamedAgg(column=\"DiasEntreReservaEntrada\", aggfunc=\"first\"),\n",
        "                                                    MesEntrada=pd.NamedAgg(column=\"MesEntrada\", aggfunc=\"first\"),\n",
        "                                                    NumeroHabitaciones = pd.NamedAgg(column=\"Linea\", aggfunc=\"count\"))"
      ],
      "execution_count": 22,
      "outputs": []
    },
    {
      "cell_type": "code",
      "metadata": {
        "id": "C2FXRzoKywO1"
      },
      "source": [
        "def cleaningDfAfterGroupBy(df: pd.DataFrame):\n",
        "  df[\"NumeroHabitaciones\"] = pd.to_numeric(df[\"NumeroHabitaciones\"], errors=\"coerce\", downcast=\"signed\")\n",
        "  df[\"FacturadoXHab\"] = df[\"Facturado\"] / (df[\"NumeroHabitaciones\"] * df[\"DiasReserva\"])\n",
        "  df = df[(df[\"Edad\"]>18) & df[\"Edad\"]<100]   #solo con los mayores de edad\n",
        "  return df\n"
      ],
      "execution_count": 23,
      "outputs": []
    },
    {
      "cell_type": "code",
      "metadata": {
        "id": "dkccneev7Ap1"
      },
      "source": [
        "def addDaysSinceLastBooking(df, date):\n",
        "  def getAmountOfDaysSinceLastBooking(row, date):\n",
        "    if(row.isnull().any()):\n",
        "      return \"NaN\"\n",
        "    return amountOfDays(row[\"Entrada\"], date)\n",
        "\n",
        "  df[\"DiasDesdeUltimaReserva\"] = df[[\"Entrada\", \"Salida\"]].apply(getAmountOfDaysSinceLastBooking, args=(date,), axis=1)\n",
        "  return df"
      ],
      "execution_count": 24,
      "outputs": []
    },
    {
      "cell_type": "code",
      "metadata": {
        "id": "UWJncltX3IVd"
      },
      "source": [
        "\n",
        "def groupByAndCleaningDfBooking(df: pd.DataFrame, date):\n",
        "  df = groupByBooking(df)\n",
        "  df = addDaysSinceLastBooking(df, date)\n",
        "  return cleaningDfAfterGroupBy(df)"
      ],
      "execution_count": 25,
      "outputs": []
    },
    {
      "cell_type": "markdown",
      "metadata": {
        "id": "Vsairay3z5Hq"
      },
      "source": [
        "# Filtrando reservas por fecha"
      ]
    },
    {
      "cell_type": "code",
      "metadata": {
        "id": "FbBN9BXhzzAB"
      },
      "source": [
        "def filter_by_date(row,filterDate):\n",
        "  if row[\"Entrada\"] == np.nan:\n",
        "    return False\n",
        "  result = amountOfDays(row[\"Entrada\"], filterDate)\n",
        "  return result >= 0\n",
        "\n",
        "\n",
        "def filterByDateDf(df: pd.DataFrame, date):\n",
        "  return df[df.apply(filter_by_date, args=(date,), axis=1)]"
      ],
      "execution_count": 26,
      "outputs": []
    },
    {
      "cell_type": "markdown",
      "metadata": {
        "id": "5YK7OD888vl8"
      },
      "source": [
        "# Visualización por reservas"
      ]
    },
    {
      "cell_type": "markdown",
      "metadata": {
        "id": "ZnNFlW1AdwdV"
      },
      "source": [
        "## Email"
      ]
    },
    {
      "cell_type": "code",
      "metadata": {
        "id": "himH8kzG8zhU"
      },
      "source": [
        "\n",
        "\n",
        "def plotBarHasEmail(df):\n",
        "  plt.figure(figsize=(16, 6))\n",
        "\n",
        "  chart = sns.countplot(x='Has_Email', data=df)\n",
        "  chart.set_xticklabels(chart.get_xticklabels(), rotation=45)\n",
        "  chart.set_title('Reservas con email disponible')\n",
        "  for p in chart.patches:\n",
        "    height = p.get_height()\n",
        "    chart.text(p.get_x()+p.get_width()/2., height + 0.1,height ,ha=\"center\")\n",
        "  print(chart)"
      ],
      "execution_count": 27,
      "outputs": []
    },
    {
      "cell_type": "markdown",
      "metadata": {
        "id": "jlPezPnr-TbQ"
      },
      "source": [
        "## Reservas por año"
      ]
    },
    {
      "cell_type": "code",
      "metadata": {
        "id": "KYLi8lsO-W1d"
      },
      "source": [
        "def plotBarByYear(df):\n",
        "  df1 = df\n",
        "  df1[\"Year\"] = df[\"Entrada\"].apply(lambda date: date.split(\"/\")[2])\n",
        "  plt.figure(figsize=(16, 6))\n",
        "\n",
        "  chart = sns.countplot(x='Year', data=df)\n",
        "  chart.set_xticklabels(chart.get_xticklabels(), rotation=45)\n",
        "  chart.set_title('Reservas por año')\n",
        "  for p in chart.patches:\n",
        "    height = p.get_height()\n",
        "    chart.text(p.get_x()+p.get_width()/2., height + 0.1,height ,ha=\"center\")\n",
        "  print(chart)\n"
      ],
      "execution_count": 28,
      "outputs": []
    },
    {
      "cell_type": "markdown",
      "metadata": {
        "id": "8w-AjBxDUINb"
      },
      "source": [
        "## Agrupado por hoteles"
      ]
    },
    {
      "cell_type": "code",
      "metadata": {
        "id": "jMKsYD97UsBY"
      },
      "source": [
        "%load_ext google.colab.data_table"
      ],
      "execution_count": 29,
      "outputs": []
    },
    {
      "cell_type": "code",
      "metadata": {
        "id": "8yUZhLucUKmV"
      },
      "source": [
        "def groupByHotels(df:pd.DataFrame):\n",
        "  print(\"\\n\\nDistribucion por hoteles\\n\\n\")\n",
        "  dfResult = df.groupby(['HotelFactura']).agg(AD=pd.NamedAgg(column=\"AD\", aggfunc=\"mean\"),\n",
        "                                                    JR=pd.NamedAgg(column=\"JR\", aggfunc=\"mean\"),\n",
        "                                                    NI=pd.NamedAgg(column=\"NI\", aggfunc=\"mean\"),\n",
        "                                                    CU=pd.NamedAgg(column=\"CU\", aggfunc=\"mean\"),\n",
        "                                                    Facturado=pd.NamedAgg(column=\"Facturado\", aggfunc=\"sum\"),\n",
        "                                                    Edad=pd.NamedAgg(column=\"Edad\", aggfunc=\"mean\"),\n",
        "                                                    DiasReservaMedia = pd.NamedAgg(column=\"DiasReserva\", aggfunc=\"mean\"),\n",
        "                                                    DiasEntreReservaEntrada=pd.NamedAgg(column=\"DiasEntreReservaEntrada\", aggfunc=\"mean\"),\n",
        "                                                    NumeroHabitaciones = pd.NamedAgg(column=\"NumeroHabitaciones\", aggfunc=\"mean\"),\n",
        "                                                    FacturadoXHab = pd.NamedAgg(column=\"FacturadoXHab\", aggfunc=\"mean\"),\n",
        "                                                    Cantidad = pd.NamedAgg(column=\"MesEntrada\", aggfunc=\"count\"),\n",
        "                                                    )\n",
        "  display(data_table.DataTable(dfResult.round(2), include_index=True, num_rows_per_page=20, max_columns=35))"
      ],
      "execution_count": 30,
      "outputs": []
    },
    {
      "cell_type": "markdown",
      "metadata": {
        "id": "eJ9M_jbfYT-u"
      },
      "source": [
        "## Canal de venta"
      ]
    },
    {
      "cell_type": "code",
      "metadata": {
        "id": "MAKkmmG8YWNp"
      },
      "source": [
        "def plotBarCanal(df:pd.DataFrame):\n",
        "  display(ggplot(df, aes(fill='Has_Email'))    \n",
        "   + aes(x='Canal')   \n",
        "\n",
        "  + geom_bar(alpha = 0.6, show_legend=True)\n",
        "   + geom_text(aes(label=\"stat(count)\"), stat='count', va='center', size=\"8\", position='stack')\n",
        "   + labs(\n",
        "       x = 'Canal',\n",
        "       y = 'Cantidad',\n",
        "       title= \"Distribución por canales de venta\"\n",
        "   )\n",
        "   + theme(figure_size=(16, 8))  # here you define the plot size\n",
        "  )\n",
        "\n",
        "  plt.figure(figsize=(16, 6)) \n",
        "\n",
        "\n",
        "  chart = sns.countplot(x='Canal', hue=\"Has_Email\", data=df)\n",
        "  chart.set_title(\"Distribución por canales de venta\")\n",
        "  for p in chart.patches:\n",
        "    height = p.get_height()\n",
        "    chart.text(p.get_x()+p.get_width()/2., height + 0.1,height ,ha=\"center\")\n",
        "  display(chart)"
      ],
      "execution_count": 31,
      "outputs": []
    },
    {
      "cell_type": "markdown",
      "metadata": {
        "id": "xUETqW3jY-lj"
      },
      "source": [
        "### País de residencia"
      ]
    },
    {
      "cell_type": "code",
      "metadata": {
        "id": "TU9wpncZZD8j"
      },
      "source": [
        "def plotBarCanalEmailNacionality(df:pd.DataFrame):\n",
        "  print(\"\\n\\nDistribucion por países de los canales de venta\\n\\n\")\n",
        "\n",
        "  for item in df[\"Canal\"].unique():\n",
        "    if item == None:\n",
        "      continue\n",
        "\n",
        "    plt.figure(figsize=(16, 6)) \n",
        "\n",
        "    chart = sns.countplot(x='PaisResidencia', data=df[(df[\"PaisResidencia\"].isin(df[df[\"Canal\"] == item][\"PaisResidencia\"].value_counts().head(15).index)) & (df[\"Canal\"] == item)], hue=\"Has_Email\")\n",
        "    chart.set_xticklabels(chart.get_xticklabels(), rotation=45)\n",
        "    chart.set_title(item)\n",
        "\n",
        "    for p in chart.patches:\n",
        "      height = p.get_height()\n",
        "      chart.text(p.get_x()+p.get_width()/2., height + 0.1,height ,ha=\"center\")\n",
        "    display(chart)"
      ],
      "execution_count": 32,
      "outputs": []
    },
    {
      "cell_type": "markdown",
      "metadata": {
        "id": "Ltf9oP0LaEGK"
      },
      "source": [
        "### Tabla resumen por canal"
      ]
    },
    {
      "cell_type": "code",
      "metadata": {
        "id": "Ldfk3c40aJ3s"
      },
      "source": [
        "def canalTableSummary(df:pd.DataFrame):\n",
        "  print(\"\\n\\nTabla resumen por canal\\n\\n\")\n",
        "  dfResult = df[df[\"PaisResidencia\"].isin(df[\"PaisResidencia\"].value_counts().head(15).index)].groupby(['Canal', \"PaisResidencia\"]).agg(FacturadoTotal=pd.NamedAgg(column=\"Facturado\", aggfunc=\"sum\"),\n",
        "                                              FacturadoMedia=pd.NamedAgg(column=\"Facturado\", aggfunc=\"mean\"),\n",
        "                                                    FacturadoXHabMedia = pd.NamedAgg(column=\"FacturadoXHab\", aggfunc=\"mean\"),\n",
        "                                                    EdadMedia=pd.NamedAgg(column=\"Edad\", aggfunc=\"mean\"),\n",
        "                                                    DiasReservaTotalMedia = pd.NamedAgg(column=\"DiasReserva\", aggfunc=\"mean\"),\n",
        "                                                    DiasEntreReservaEntradaMedia=pd.NamedAgg(column=\"DiasEntreReservaEntrada\", aggfunc=\"mean\"),\n",
        "                                                    Cantidad = pd.NamedAgg(column=\"MesEntrada\", aggfunc=\"count\"),\n",
        "                                                    ).round(1)\n",
        "\n",
        "  display(data_table.DataTable(dfResult, include_index=True, num_rows_per_page=20, max_columns=35))"
      ],
      "execution_count": 33,
      "outputs": []
    },
    {
      "cell_type": "markdown",
      "metadata": {
        "id": "ZVyQQsw4bhts"
      },
      "source": [
        "## Procedencia de las reservas"
      ]
    },
    {
      "cell_type": "code",
      "metadata": {
        "id": "eocQwCkybgeF"
      },
      "source": [
        "def plotBarNacionalityOfBookinksClients(df:pd.DataFrame):\n",
        "  dfToGraph = df[\"PaisResidencia\"].value_counts().head(15)\n",
        "  # groupedByClient[groupedByClient[\"PaisResidencia\"].isin(dfToGraph.index)]\n",
        "\n",
        "\n",
        "  plt.figure(figsize=(16, 6)) \n",
        "\n",
        "  chart = sns.countplot(x='PaisResidencia', data=df[df[\"PaisResidencia\"].isin(dfToGraph.index)])\n",
        "  chart.set_xticklabels(chart.get_xticklabels(), rotation=45)\n",
        "  chart.set_title(\"Procedencia de las reservas\") \n",
        "  for p in chart.patches:\n",
        "      height = p.get_height()\n",
        "      chart.text(p.get_x()+p.get_width()/2., height + 0.1,height ,ha=\"center\")\n",
        "  display(chart)"
      ],
      "execution_count": 34,
      "outputs": []
    },
    {
      "cell_type": "markdown",
      "metadata": {
        "id": "RqDeW2jqcI7o"
      },
      "source": [
        "## Visualizacion por reservas (completa)"
      ]
    },
    {
      "cell_type": "code",
      "metadata": {
        "id": "oOE38gMYdfTK"
      },
      "source": [
        "def bookingVisualization(df:pd.DataFrame, date = None):\n",
        "  if date!= None:\n",
        "    df=filter_by_date(df)\n",
        "\n",
        "  plotBarHasEmail(df)\n",
        "  plotBarByYear(df)\n",
        "  groupByHotels(df)\n",
        "\n",
        "  plotBarCanal(df)\n",
        "  plotBarCanalEmailNacionality(df)\n",
        "  canalTableSummary(df)\n",
        "\n",
        "  plotBarNacionalityOfBookinksClients(df)"
      ],
      "execution_count": 35,
      "outputs": []
    },
    {
      "cell_type": "markdown",
      "metadata": {
        "id": "6vVbG4Gyvipa"
      },
      "source": [
        "# Agrupación por clientes"
      ]
    },
    {
      "cell_type": "code",
      "metadata": {
        "id": "867eQIAovlqs"
      },
      "source": [
        "def groupByClient(df:pd.DataFrame):\n",
        "  df =  df.groupby(['ID_HASH']).agg(Sexo=pd.NamedAgg(column=\"Sexo\", aggfunc=\"first\"), PaisResidencia=pd.NamedAgg(column=\"PaisResidencia\", aggfunc=\"first\"), \n",
        "                                                    AD=pd.NamedAgg(column=\"AD\", aggfunc=\"sum\"),\n",
        "                                                    JR=pd.NamedAgg(column=\"JR\", aggfunc=\"sum\"),\n",
        "                                                    NI=pd.NamedAgg(column=\"NI\", aggfunc=\"sum\"),\n",
        "                                                    CU=pd.NamedAgg(column=\"CU\", aggfunc=\"sum\"),\n",
        "                                                    HotelFactura=pd.NamedAgg(column=\"HotelFactura\", aggfunc=\"first\"),\n",
        "                                                    THFactura=pd.NamedAgg(column=\"THFactura\", aggfunc=\"first\"),\n",
        "                                                    RegimenFactura=pd.NamedAgg(column=\"RegimenFactura\", aggfunc=\"first\"),\n",
        "                                                    Canal=pd.NamedAgg(column=\"Canal\", aggfunc=\"first\"),\n",
        "                                                    Facturado=pd.NamedAgg(column=\"Facturado\", aggfunc=\"sum\"),\n",
        "                                                    Edad=pd.NamedAgg(column=\"Edad\", aggfunc=\"first\"),\n",
        "                                                    DiasReserva=pd.NamedAgg(column=\"DiasReserva\", aggfunc=\"sum\"),\n",
        "                                                    DiasReservaMedia = pd.NamedAgg(column=\"DiasReserva\", aggfunc=\"mean\"),\n",
        "                                                    DiasEntreReservaEntrada=pd.NamedAgg(column=\"DiasEntreReservaEntrada\", aggfunc=\"mean\"),\n",
        "                                                    DiasDesdeUltimaReserva = pd.NamedAgg(column=\"DiasDesdeUltimaReserva\", aggfunc=\"min\"),\n",
        "                                                    DiasDesdePrimeraReserva = pd.NamedAgg(column=\"DiasDesdeUltimaReserva\", aggfunc=\"max\"),\n",
        "                                                    NumeroHabitaciones = pd.NamedAgg(column=\"NumeroHabitaciones\", aggfunc=\"sum\"),\n",
        "                                                    NumeroHabitacionesMean = pd.NamedAgg(column=\"NumeroHabitaciones\", aggfunc=\"mean\"),\n",
        "                                                    FacturadoXHabMaxReserva = pd.NamedAgg(column=\"FacturadoXHab\", aggfunc=\"max\"),\n",
        "                                                    NumeroReservas = pd.NamedAgg(column=\"ID_HASH\", aggfunc=\"count\"),\n",
        "                                                    )\n",
        "  df[\"FacturadoXHab\"] = df[\"Facturado\"]/(df[\"DiasReserva\"] * df[\"NumeroHabitaciones\"])\n",
        "  return df"
      ],
      "execution_count": 36,
      "outputs": []
    },
    {
      "cell_type": "markdown",
      "metadata": {
        "id": "XdbUpW4-3Qqz"
      },
      "source": [
        "## RFM"
      ]
    },
    {
      "cell_type": "markdown",
      "metadata": {
        "id": "v-wa2ZQ23oDL"
      },
      "source": [
        "### Regency"
      ]
    },
    {
      "cell_type": "code",
      "metadata": {
        "id": "jsekVy3mRvHS"
      },
      "source": [
        "def addRegencyColumn(df:pd.DataFrame):\n",
        "  quantile20 = df[\"DiasDesdeUltimaReserva\"].quantile(0.20)\n",
        "  quantile40 = df[\"DiasDesdeUltimaReserva\"].quantile(0.40)\n",
        "  quantile60 = df[\"DiasDesdeUltimaReserva\"].quantile(0.60)\n",
        "  quantile80 = df[\"DiasDesdeUltimaReserva\"].quantile(0.80)\n",
        "\n",
        "  def getRegency(row):\n",
        "    if row[\"DiasDesdeUltimaReserva\"] < quantile20:\n",
        "      return 5\n",
        "    if row[\"DiasDesdeUltimaReserva\"] < quantile40:\n",
        "      return 4\n",
        "    if row[\"DiasDesdeUltimaReserva\"] < quantile60:\n",
        "      return 3\n",
        "    if row[\"DiasDesdeUltimaReserva\"] < quantile80:\n",
        "      return 2\n",
        "    return 1\n",
        "  df[\"Regency\"] = df.apply(getRegency, axis=1)\n",
        "  return df"
      ],
      "execution_count": 37,
      "outputs": []
    },
    {
      "cell_type": "markdown",
      "metadata": {
        "id": "rvkhREX43r5o"
      },
      "source": [
        "### Monetary "
      ]
    },
    {
      "cell_type": "code",
      "metadata": {
        "id": "fWEAI_0O3u6u"
      },
      "source": [
        "def addMonetaryColumn(df:pd.DataFrame):\n",
        "  quantile20 = df[\"Facturado\"].quantile(0.20)\n",
        "  quantile40 = df[\"Facturado\"].quantile(0.40)\n",
        "  quantile60 = df[\"Facturado\"].quantile(0.60)\n",
        "  quantile80 = df[\"Facturado\"].quantile(0.80)\n",
        "\n",
        "  def getMonetaryColumn(row):\n",
        "    if row[\"Facturado\"] > quantile80:\n",
        "      return 5\n",
        "    if row[\"Facturado\"] > quantile60:\n",
        "      return 4\n",
        "    if row[\"Facturado\"] > quantile40:\n",
        "      return 3\n",
        "    if row[\"Facturado\"] > quantile20:\n",
        "      return 2\n",
        "    return 1\n",
        "\n",
        "  df[\"Monetary\"] = df.apply(getMonetaryColumn, axis=1)\n",
        "  return df"
      ],
      "execution_count": 38,
      "outputs": []
    },
    {
      "cell_type": "markdown",
      "metadata": {
        "id": "_f7CnTNw4Bjv"
      },
      "source": [
        "### Monetary Mean"
      ]
    },
    {
      "cell_type": "code",
      "metadata": {
        "id": "GK8i8fw14E1q"
      },
      "source": [
        "def addMonetaryMeanColumn(df:pd.DataFrame):\n",
        "  quantile20 = df[\"FacturadoXHab\"].quantile(0.20)\n",
        "  quantile40 = df[\"FacturadoXHab\"].quantile(0.40)\n",
        "  quantile60 = df[\"FacturadoXHab\"].quantile(0.60)\n",
        "  quantile80 = df[\"FacturadoXHab\"].quantile(0.80)\n",
        "\n",
        "  def getMonetaryMeanColumn(row):\n",
        "    if row[\"FacturadoXHab\"] > quantile80:\n",
        "      return 5\n",
        "    if row[\"FacturadoXHab\"] > quantile60:\n",
        "      return 4\n",
        "    if row[\"FacturadoXHab\"] > quantile40:\n",
        "      return 3\n",
        "    if row[\"FacturadoXHab\"] > quantile20:\n",
        "      return 2\n",
        "    return 1\n",
        "\n",
        "  df[\"MonetaryMean\"] = df.apply(getMonetaryMeanColumn, axis=1)\n",
        "  return df"
      ],
      "execution_count": 39,
      "outputs": []
    },
    {
      "cell_type": "markdown",
      "metadata": {
        "id": "TqacSVzS4NAL"
      },
      "source": [
        "### Frequency"
      ]
    },
    {
      "cell_type": "code",
      "metadata": {
        "id": "6f2hEPfv4lVG"
      },
      "source": [
        "def addFrequencyColumn(df:pd.DataFrame):\n",
        "  def getFrequency(row):\n",
        "    if row[\"NumeroReservas\"] > 4:\n",
        "      return 5\n",
        "    if row[\"NumeroReservas\"] > 3:\n",
        "      return 4\n",
        "    if row[\"NumeroReservas\"] > 2:\n",
        "      return 3\n",
        "    if row[\"NumeroReservas\"] > 1:\n",
        "      return 2\n",
        "    return 1\n",
        "\n",
        "  df[\"Frequency\"] = df.apply(getFrequency, axis=1)\n",
        "  return df"
      ],
      "execution_count": 40,
      "outputs": []
    },
    {
      "cell_type": "markdown",
      "metadata": {
        "id": "k6Cq0Afr4vr3"
      },
      "source": [
        "### Cantidad dias reserva cluster"
      ]
    },
    {
      "cell_type": "code",
      "metadata": {
        "id": "dEx_2rPB40om"
      },
      "source": [
        "def addTotalBookingDaysClusterColumn(df:pd.DataFrame):\n",
        "  quantile20 = df[\"DiasReservaMedia\"].quantile(0.20)\n",
        "  quantile40 = df[\"DiasReservaMedia\"].quantile(0.40)\n",
        "  quantile60 = df[\"DiasReservaMedia\"].quantile(0.60)\n",
        "  quantile80 = df[\"DiasReservaMedia\"].quantile(0.80)\n",
        "\n",
        "  def getTotalBookingDaysClusterColumn(row):\n",
        "    if row[\"DiasReservaMedia\"] > quantile80:\n",
        "      return 5\n",
        "    if row[\"DiasReservaMedia\"] > quantile60:\n",
        "      return 4\n",
        "    if row[\"DiasReservaMedia\"] > quantile40:\n",
        "      return 3\n",
        "    if row[\"DiasReservaMedia\"] > quantile20:\n",
        "      return 2\n",
        "    return 1\n",
        "\n",
        "  df[\"totalBookingDaysCluster\"] = df.apply(getTotalBookingDaysClusterColumn, axis=1)\n",
        "  return df"
      ],
      "execution_count": 41,
      "outputs": []
    },
    {
      "cell_type": "markdown",
      "metadata": {
        "id": "LXkcg8uf5TQ9"
      },
      "source": [
        "### RFM Cluster"
      ]
    },
    {
      "cell_type": "code",
      "metadata": {
        "id": "_8Rk9lrw5W_C"
      },
      "source": [
        "def addRfmClusterColumn (df:pd.DataFrame):\n",
        "  def getRFMCluster(row):\n",
        "    if row[\"Regency\"] > 4 and row[\"Monetary\"] > 4 and row[\"Frequency\"] > 2:\n",
        "      return \"CHAMPION\"\n",
        "    if row[\"Regency\"] > 2 and row[\"Monetary\"] > 2 and row[\"Frequency\"] > 1:\n",
        "      return \"LOYAL_CUSTOMER\"\n",
        "    if row[\"Regency\"] > 3 and row[\"Monetary\"] > 2:\n",
        "      return \"POTENTIAL_LOYAL\"\n",
        "    if row[\"Regency\"] > 2 and row[\"Frequency\"] > 1:\n",
        "      return \"PROMISING\"\n",
        "    if row[\"Regency\"] > 1 and row[\"Monetary\"] > 1:\n",
        "      return \"REGULAR\"\n",
        "    if row[\"Frequency\"] > 1 and row[\"Monetary\"] > 2:\n",
        "      return \"CANT_LOOSE\"\n",
        "    if row[\"Monetary\"] > 1:\n",
        "      return \"HIBERNATING\"\n",
        "    return \"LOST\"\n",
        "\n",
        "\n",
        "  df[\"rfmCluster\"] = df.apply(getRFMCluster, axis=1)\n",
        "  return df\n",
        "\n",
        "def rfm(df:pd.DataFrame):\n",
        "  df = addTotalBookingDaysClusterColumn(addRegencyColumn(addMonetaryColumn(addMonetaryMeanColumn(addFrequencyColumn(df)))))\n",
        "  return addRfmClusterColumn(df)"
      ],
      "execution_count": 42,
      "outputs": []
    },
    {
      "cell_type": "markdown",
      "metadata": {
        "id": "Kvc1lDHb9Alb"
      },
      "source": [
        "## Visualizacion RFM"
      ]
    },
    {
      "cell_type": "markdown",
      "metadata": {
        "id": "1vRjxpxP-JQY"
      },
      "source": [
        "### RFM barras"
      ]
    },
    {
      "cell_type": "code",
      "metadata": {
        "id": "MhmDGxm79EJS"
      },
      "source": [
        "def plotBarByRfmCluster(df:pd.DataFrame):\n",
        "  \n",
        "  plt.figure(figsize=(16, 6))\n",
        "\n",
        "\n",
        "  chart = sns.countplot(x='rfmCluster', data=df)\n",
        "  chart.set_xticklabels(chart.get_xticklabels(), rotation=45)\n",
        "  chart.set_title(\"Distribución de clientes por clusters RFM\")\n",
        "\n",
        "  for p in chart.patches:\n",
        "    height = p.get_height()\n",
        "    chart.text(p.get_x()+p.get_width()/2., height + 0.1,height ,ha=\"center\")\n",
        "  display(chart)"
      ],
      "execution_count": 43,
      "outputs": []
    },
    {
      "cell_type": "markdown",
      "metadata": {
        "id": "4alM8TJt-N2s"
      },
      "source": [
        "### RFM summary"
      ]
    },
    {
      "cell_type": "code",
      "metadata": {
        "id": "adYUyX8K-Qk9"
      },
      "source": [
        "def showRFMTable(df):\n",
        "  display(df.groupby(['rfmCluster']).agg(FacturadoMedia=pd.NamedAgg(column=\"Facturado\", aggfunc=\"mean\"),\n",
        "                                                    FacturadoXHabMedia = pd.NamedAgg(column=\"FacturadoXHab\", aggfunc=\"mean\"),\n",
        "                                                    EdadMedia=pd.NamedAgg(column=\"Edad\", aggfunc=\"mean\"),\n",
        "                                                    DiasReservaMedia = pd.NamedAgg(column=\"DiasReserva\", aggfunc=\"mean\"),\n",
        "                                                    DiasEntreReservaEntradaMedia=pd.NamedAgg(column=\"DiasEntreReservaEntrada\", aggfunc=\"mean\"),\n",
        "                                                    DiasDesdeUltimaReservaMedia = pd.NamedAgg(column=\"DiasDesdeUltimaReserva\", aggfunc=\"mean\"),\n",
        "                                                    NumeroReservasMedia = pd.NamedAgg(column=\"NumeroReservas\", aggfunc=\"mean\"),\n",
        "                                                    Cantidad = pd.NamedAgg(column=\"rfmCluster\", aggfunc=\"count\"),\n",
        "                                                    ))"
      ],
      "execution_count": 44,
      "outputs": []
    },
    {
      "cell_type": "markdown",
      "metadata": {
        "id": "b8irkRMo-2rG"
      },
      "source": [
        "### Procedencia de los clientes"
      ]
    },
    {
      "cell_type": "code",
      "metadata": {
        "id": "Zu3ugKj_-7t2"
      },
      "source": [
        "def showNacionalityClients(df):\n",
        "  dfToGraph = df[\"PaisResidencia\"].value_counts().head(15)\n",
        "  plt.figure(figsize=(16, 6)) \n",
        "\n",
        "  chart = sns.countplot(x='PaisResidencia', data=df[df[\"PaisResidencia\"].isin(dfToGraph.index)])\n",
        "  chart.set_xticklabels(chart.get_xticklabels(), rotation=45)\n",
        "  chart.set_title(\"Distribución de clientes por nacionalidad\")\n",
        "\n",
        "  for p in chart.patches:\n",
        "    height = p.get_height()\n",
        "    chart.text(p.get_x()+p.get_width()/2., height + 0.1,height ,ha=\"center\")\n",
        "  display(chart)"
      ],
      "execution_count": 45,
      "outputs": []
    },
    {
      "cell_type": "markdown",
      "metadata": {
        "id": "yKJoQbk7_ZYo"
      },
      "source": [
        "### Distribucion de clientes en funcion de cluster y nacionalidad"
      ]
    },
    {
      "cell_type": "code",
      "metadata": {
        "id": "xKVWMy_R_d8r"
      },
      "source": [
        "def showPlotBarsNacionalityRfm(df):\n",
        "\n",
        "  for rfmCluster in df[\"rfmCluster\"].unique():\n",
        "    plt.figure(figsize=(16, 6)) \n",
        "\n",
        "    chart = sns.countplot(x='PaisResidencia', data=df[(df[\"PaisResidencia\"].isin(df[df[\"rfmCluster\"] == rfmCluster][\"PaisResidencia\"].value_counts().head(15).index)) & (df[\"rfmCluster\"] == rfmCluster)],)\n",
        "    chart.set_xticklabels(chart.get_xticklabels(), rotation=45)\n",
        "    chart.set_title(rfmCluster + \"_CLIENTS\")\n",
        "\n",
        "    for p in chart.patches:\n",
        "      height = p.get_height()\n",
        "      chart.text(p.get_x()+p.get_width()/2., height + 0.1,height ,ha=\"center\")\n",
        "    display(chart)"
      ],
      "execution_count": 46,
      "outputs": []
    },
    {
      "cell_type": "markdown",
      "metadata": {
        "id": "Ubqz71OpAFgJ"
      },
      "source": [
        "### Numero de estancias"
      ]
    },
    {
      "cell_type": "code",
      "metadata": {
        "id": "m9MyU2vvAep1"
      },
      "source": [
        "def showPlotBarAmountBookings(df):\n",
        "  plt.figure(figsize=(16, 6)) \n",
        "\n",
        "  chart = sns.countplot(x='NumeroReservas', data=df)\n",
        "  chart.set_xticklabels(chart.get_xticklabels(), rotation=45)\n",
        "  chart.set_title(\"Numero de estancias por clientes\")\n",
        "\n",
        "  for p in chart.patches:\n",
        "    height = p.get_height()\n",
        "    chart.text(p.get_x()+p.get_width()/2., height + 0.1,height ,ha=\"center\")\n",
        "  display(chart)"
      ],
      "execution_count": 47,
      "outputs": []
    },
    {
      "cell_type": "markdown",
      "metadata": {
        "id": "5AO_zq4QDsgF"
      },
      "source": [
        "### Visualizacion RFM (completa)"
      ]
    },
    {
      "cell_type": "code",
      "metadata": {
        "id": "iWvVhphCDxG4"
      },
      "source": [
        "def visualizationRFM(df):\n",
        "  plotBarByRfmCluster(df)\n",
        "  showRFMTable(df)\n",
        "  showNacionalityClients(df)\n",
        "  showPlotBarsNacionalityRfm(df)\n",
        "  showPlotBarAmountBookings(df)\n",
        "\n"
      ],
      "execution_count": 48,
      "outputs": []
    },
    {
      "cell_type": "markdown",
      "metadata": {
        "id": "bh4QMjotEYx5"
      },
      "source": [
        "## Life Cycle Clients"
      ]
    },
    {
      "cell_type": "code",
      "metadata": {
        "id": "hWh9edmaEdSx"
      },
      "source": [
        "def addClientLifeCycleColumn(df, columnName = \"LIFE_CYCLE\"):\n",
        "  def getLifeCycleStage(row):\n",
        "    if row[\"DiasDesdeUltimaReserva\"] > 730:\n",
        "      return \"CHURNED\"\n",
        "    if row[\"DiasDesdeUltimaReserva\"] > 365:\n",
        "      return \"DORMANT\"\n",
        "    if row[\"DiasDesdePrimeraReserva\"] > 365:\n",
        "      return \"ACTIVE\"\n",
        "    return \"NEW_CUSTOMER\"\n",
        "\n",
        "\n",
        "  df[columnName] = df.apply(getLifeCycleStage, axis=1)\n",
        "  return df"
      ],
      "execution_count": 49,
      "outputs": []
    },
    {
      "cell_type": "code",
      "metadata": {
        "id": "p3PpDXFxL-5e"
      },
      "source": [
        "def showPlotBarLifeCycle(df, name = ''):\n",
        "  plt.figure(figsize=(16, 6)) \n",
        "\n",
        "  chart = sns.countplot(x='LIFE_CYCLE', data=df)\n",
        "  chart.set_xticklabels(chart.get_xticklabels(), rotation=45)\n",
        "  chart.set_title(\"Ciclo de vida \" + name)\n",
        "\n",
        "  for p in chart.patches:\n",
        "    height = p.get_height()\n",
        "    chart.text(p.get_x()+p.get_width()/2., height + 0.1,height ,ha=\"center\")\n",
        "  display(chart)"
      ],
      "execution_count": 50,
      "outputs": []
    },
    {
      "cell_type": "code",
      "metadata": {
        "id": "NR10d6JSMv6S"
      },
      "source": [
        "def lifeCycle(df):\n",
        "  df = addClientLifeCycleColumn(df)\n",
        "  showPlotBarLifeCycle(df)\n",
        "  return df"
      ],
      "execution_count": 51,
      "outputs": []
    },
    {
      "cell_type": "markdown",
      "metadata": {
        "id": "CfkP3T9tRz8a"
      },
      "source": [
        "## Valor del cliente (Total facturado - numero de estancias)"
      ]
    },
    {
      "cell_type": "code",
      "metadata": {
        "id": "JhECUvNeR7DH"
      },
      "source": [
        "def clientValueTotalFacturadoFrecuencia (df:pd.DataFrame):\n",
        "  def getCluster(row):\n",
        "    if row[\"Monetary\"] > 4 and row[\"Frequency\"] > 4:\n",
        "      return \"VIP\"\n",
        "    if row[\"Monetary\"] > 4:\n",
        "      return \"ALTO_VALOR_ESPORADICO\"\n",
        "    if row[\"Frequency\"] > 1:\n",
        "      return \"BAJO_VALOR_FRECUENTE\"\n",
        "    return \"BAJO_VALOR_ESPORADICO\"\n",
        "\n",
        "\n",
        "  df[\"ValorClienteTotalFacturadoFrecuencia\"] = df.apply(getCluster, axis=1)\n",
        "  return df\n",
        "\n"
      ],
      "execution_count": 52,
      "outputs": []
    },
    {
      "cell_type": "code",
      "metadata": {
        "id": "fH5e8yI0TcuL"
      },
      "source": [
        "def showClientValueTotalFactFrequency(df):\n",
        "  plt.figure(figsize=(16, 6)) \n",
        "\n",
        "  chart = sns.countplot(x='ValorClienteTotalFacturadoFrecuencia', data=df)\n",
        "  chart.set_xticklabels(chart.get_xticklabels(), rotation=45)\n",
        "  chart.set_title(\"Clientes agrupados segun total facturado y frecuencia\")\n",
        "\n",
        "  for p in chart.patches:\n",
        "    height = p.get_height()\n",
        "    chart.text(p.get_x()+p.get_width()/2., height + 0.1,height ,ha=\"center\")\n",
        "  display(chart)"
      ],
      "execution_count": 53,
      "outputs": []
    },
    {
      "cell_type": "code",
      "metadata": {
        "id": "pJvt0_2IT0nM"
      },
      "source": [
        "def clientValueTotalFactFrequency(df):\n",
        "  df = clientValueTotalFacturadoFrecuencia(df)\n",
        "  showClientValueTotalFactFrequency(df)\n",
        "  return df"
      ],
      "execution_count": 54,
      "outputs": []
    },
    {
      "cell_type": "markdown",
      "metadata": {
        "id": "WzV0QkW8ULhR"
      },
      "source": [
        "## Valor del cliente (Facturado media - Longitud estancia)"
      ]
    },
    {
      "cell_type": "code",
      "metadata": {
        "id": "ZzGu4OScUWtH"
      },
      "source": [
        "def addMeanFactClientValueColumn (df:pd.DataFrame):\n",
        "  quantile98 = df[\"FacturadoXHab\"].quantile(0.98)\n",
        "  def getCluster(row):\n",
        "    if row[\"FacturadoXHab\"] >= quantile98:\n",
        "      return \"MUY_ALTO_ARR\"\n",
        "    if row[\"MonetaryMean\"] > 4 and row[\"totalBookingDaysCluster\"] > 4:\n",
        "      return \"ALTO_ARR_ALTO_LOSS\"\n",
        "    if row[\"MonetaryMean\"] > 4:\n",
        "      return \"ALTO_ARR_BAJO_LOSS\"\n",
        "    if row[\"totalBookingDaysCluster\"] > 4:\n",
        "      return \"BAJO_ARR_ALTO_LOSS\"\n",
        "    return \"BAJO_ARR_BAJO_LOSS\"\n",
        "\n",
        "\n",
        "  df[\"ValorClienteFacturadoXHabEstancia\"] = df.apply(getCluster, axis=1)\n",
        "  return df\n"
      ],
      "execution_count": 55,
      "outputs": []
    },
    {
      "cell_type": "code",
      "metadata": {
        "id": "y2PGBkt3Vraw"
      },
      "source": [
        "def showClientValueMeanFactBookingDays(df):\n",
        "  plt.figure(figsize=(16, 6)) \n",
        "\n",
        "  chart = sns.countplot(x='ValorClienteFacturadoXHabEstancia', data=df)\n",
        "  chart.set_xticklabels(chart.get_xticklabels(), rotation=45)\n",
        "  chart.set_title(\"Clientes agrupados segun media facturada x hab y cant de dias de la reserva\")\n",
        "\n",
        "  for p in chart.patches:\n",
        "    height = p.get_height()\n",
        "    chart.text(p.get_x()+p.get_width()/2., height + 0.1,height ,ha=\"center\")\n",
        "  display(chart)"
      ],
      "execution_count": 56,
      "outputs": []
    },
    {
      "cell_type": "code",
      "metadata": {
        "id": "WzwVa7cNWFUz"
      },
      "source": [
        "def clientValueMeanFactBookingDays(df):\n",
        "  df = addMeanFactClientValueColumn(df)\n",
        "  showClientValueMeanFactBookingDays(df)\n",
        "  return df"
      ],
      "execution_count": 57,
      "outputs": []
    },
    {
      "cell_type": "markdown",
      "metadata": {
        "id": "mTfaqATpWv2Z"
      },
      "source": [
        "## Visualizacion Valor del cliente"
      ]
    },
    {
      "cell_type": "code",
      "metadata": {
        "id": "SYjjo9N_Wzb_"
      },
      "source": [
        "def plotBarClientValue(df:pd.DataFrame):\n",
        "\n",
        "  dfGrouped = df.groupby(['ValorClienteTotalFacturadoFrecuencia', 'ValorClienteFacturadoXHabEstancia']).agg(Total=pd.NamedAgg(column=\"ValorClienteTotalFacturadoFrecuencia\", aggfunc=\"count\"))\n",
        "  dfGrouped[\"Porcentaje\"] = dfGrouped.apply(lambda x: 100 * x[\"Total\"]/len(df[df[\"ValorClienteTotalFacturadoFrecuencia\"] == x.name[0]]),axis=1)\n",
        "  display(dfGrouped)\n",
        "\n",
        "  dfGrouped.reset_index(inplace=True)\n",
        "  display(ggplot(dfGrouped, aes(fill='ValorClienteFacturadoXHabEstancia'))    \n",
        "   + aes(x='ValorClienteTotalFacturadoFrecuencia', y=\"Porcentaje\")   \n",
        "\n",
        "   + geom_col(alpha = 0.6, show_legend=True)\n",
        "   + geom_text(aes(label='Porcentaje'), va='center', size=\"8\", position='stack')\n",
        "   + labs(\n",
        "       x = 'Valor Cliente por Total Facturado-Frecuencia',\n",
        "       y = 'Porcentaje',\n",
        "       title= \"Distribucion de clientes segun su valor\"\n",
        "   )\n",
        "   + theme(figure_size=(16, 8))  # here you define the plot size\n",
        "   \n",
        "    )\n"
      ],
      "execution_count": 58,
      "outputs": []
    },
    {
      "cell_type": "markdown",
      "metadata": {
        "id": "7hZAaNEXznVO"
      },
      "source": [
        "## Valor del cliente (completa)"
      ]
    },
    {
      "cell_type": "code",
      "metadata": {
        "id": "Te29_R5g0kGf"
      },
      "source": [
        "def addCycleValueColumnsAndVisualize(df):\n",
        "  df = clientValueTotalFactFrequency(df)\n",
        "  df = clientValueMeanFactBookingDays(addTotalBookingDaysClusterColumn(df))\n",
        "  plotBarClientValue(df)\n",
        "  return df\n"
      ],
      "execution_count": 59,
      "outputs": []
    },
    {
      "cell_type": "markdown",
      "metadata": {
        "id": "Ec8K8E7Inlge"
      },
      "source": [
        "# Analisis por fechas"
      ]
    },
    {
      "cell_type": "code",
      "metadata": {
        "id": "qTrfwfA_xcCC"
      },
      "source": [
        "def dataExplorationByDates(dfArray, datesOrdered = []):\n",
        "  dfOriginal = cleaningRawData(dfArray)\n",
        "\n",
        "  dfFilteredArray = []\n",
        "\n",
        "\n",
        "  for date in datesOrdered:\n",
        "    df = groupByAndCleaningDfBooking(dfOriginal, date)\n",
        "    df = filterByDateDf(df, date)\n",
        "\n",
        "    print(\"\\n------------------\\nVisualización por reservas hasta \" + date + \"\\n------------------\\n\")\n",
        "    bookingVisualization(df)\n",
        "\n",
        "    dfClients  = groupByClient(df)\n",
        "    dfClients = rfm(dfClients)\n",
        "\n",
        "    print(\"\\n------------------\\nVisualización por clientes hasta \" + date + \"\\n------------------\\n\")\n",
        "    visualizationRFM(dfClients)\n",
        "\n",
        "    dfClients = lifeCycle(dfClients)\n",
        "\n",
        "    dfClients = addCycleValueColumnsAndVisualize(dfClients)\n",
        "\n",
        "    dfFilteredArray.append(dfClients)\n",
        "    print(\"\\n------------------\\         FIN         \" + date + \"\\n------------------\\n\")\n",
        "  return dfFilteredArray\n",
        "    \n"
      ],
      "execution_count": 60,
      "outputs": []
    },
    {
      "cell_type": "code",
      "metadata": {
        "id": "DzdseCOVjCaK"
      },
      "source": [
        "# from datetime import datetime\n",
        "# now = datetime.now()\n",
        "# now  = now.strftime(\"%m/%d/%Y\")"
      ],
      "execution_count": 61,
      "outputs": []
    },
    {
      "cell_type": "code",
      "metadata": {
        "id": "u9QWYsp63Nsj"
      },
      "source": [
        "# dfArray = dataExplorationByDates(paths, [\"12/31/2020\", now])"
      ],
      "execution_count": 62,
      "outputs": []
    },
    {
      "cell_type": "markdown",
      "metadata": {
        "id": "nJsImQFbXGB6"
      },
      "source": [
        "# Migraciones entre clientes por fechas"
      ]
    },
    {
      "cell_type": "code",
      "metadata": {
        "id": "5IEyJo94HFUp"
      },
      "source": [
        "def changeColumnNames(df, date):\n",
        "  df = df.rename(columns={\"LIFE_CYCLE\": \"LIFE_CYCLE_\" + date, \"rfmCluster\": \"rfmCluster_\" + date, \"ValorClienteTotalFacturadoFrecuencia\": \"ValorClienteTotalFacturadoFrecuencia_\" + date, \"ValorClienteFacturadoXHabEstancia\": \"ValorClienteFacturadoXHabEstancia_\" + date})\n",
        "  return df"
      ],
      "execution_count": 63,
      "outputs": []
    },
    {
      "cell_type": "code",
      "metadata": {
        "id": "sdgkxXW3bOFc"
      },
      "source": [
        "def migrationsByDate(df, dates, columns = [\"LIFE_CYCLE\", \"ValorClienteFacturadoXHabEstancia\", \"ValorClienteTotalFacturadoFrecuencia\", \"rfmCluster\" ]):\n",
        "  for column in columns:\n",
        "    colNamesToGroupBy = list(map(lambda x: column + \"_\" + x, dates))\n",
        "    display(df.groupby(colNamesToGroupBy).agg(Cantidad = pd.NamedAgg(column=\"Sexo\", aggfunc=\"count\")))\n"
      ],
      "execution_count": 64,
      "outputs": []
    },
    {
      "cell_type": "code",
      "metadata": {
        "id": "7o1zR17tZZav"
      },
      "source": [
        "def mergeDataFrames(dfArray, dates):\n",
        "  dfResult = None\n",
        "  for i in range(len(dfArray)):\n",
        "    df1 = changeColumnNames(dfArray[i], dates[i] )\n",
        "    if i-1<0:\n",
        "      dfResult = df1\n",
        "    else:\n",
        "      cols_to_use = dfResult.columns.difference(df1.columns)\n",
        "      dfResult = df1.merge(dfResult[cols_to_use], how=\"left\", on=\"ID_HASH\")\n",
        "      dfResult = dfResult.fillna(value=dict.fromkeys(cols_to_use, \"PROSPECT\"))\n",
        "  return dfResult\n",
        "\n"
      ],
      "execution_count": 65,
      "outputs": []
    },
    {
      "cell_type": "code",
      "metadata": {
        "id": "s_g030rEiGUU"
      },
      "source": [
        "def mergeDataFramesAndAnalizeMigrations(dfArray, dates):\n",
        "  dfResult = mergeDataFrames(dfArray, dates)\n",
        "  migrationsByDate(dfResult, dates)\n",
        "  return dfResult"
      ],
      "execution_count": 66,
      "outputs": []
    },
    {
      "cell_type": "code",
      "metadata": {
        "id": "-hxLjyM9gnVy"
      },
      "source": [
        ""
      ],
      "execution_count": 66,
      "outputs": []
    },
    {
      "cell_type": "code",
      "metadata": {
        "id": "olaC8wqiZgoF"
      },
      "source": [
        "# dfMerged = mergeDataFramesAndAnalizeMigrations(dfArray, [\"12/31/2020\", now])"
      ],
      "execution_count": 67,
      "outputs": []
    },
    {
      "cell_type": "markdown",
      "metadata": {
        "id": "TFD-wdu2itax"
      },
      "source": [
        "# Analisis completo"
      ]
    },
    {
      "cell_type": "code",
      "metadata": {
        "id": "4mYadO2sivjI"
      },
      "source": [
        "def fullExploratotyAnalysis(dfArray, dates):\n",
        "  dfArray = dataExplorationByDates(dfArray, dates)\n",
        "  dfMerged = mergeDataFramesAndAnalizeMigrations(dfArray, dates)\n",
        "  return dfMerged"
      ],
      "execution_count": 68,
      "outputs": []
    },
    {
      "cell_type": "code",
      "metadata": {
        "id": "0r-_0XFOB81d"
      },
      "source": [
        "def changeDateColumnsFormat(df, columns=[\"Entrada\", \"Salida\", \"Venta\", \"FechaNacimiento\"]):\n",
        "  for column in columns:\n",
        "    df[column] = pd.to_datetime(df[column], dayfirst=\"true\", errors=\"coerce\")\n",
        "    df[column] = df[column].dt.strftime(\"%m/%d/%Y\")\n",
        "  return df\n"
      ],
      "execution_count": 77,
      "outputs": []
    },
    {
      "cell_type": "code",
      "metadata": {
        "id": "cp67k0zYjGnK",
        "colab": {
          "base_uri": "https://localhost:8080/"
        },
        "outputId": "da9ff727-f445-446f-a7f4-df4fcc3caacd"
      },
      "source": [
        "from datetime import datetime\n",
        "now = datetime.now()\n",
        "now  = now.strftime(\"%m/%d/%Y\")\n",
        "\n",
        "\n",
        "paths = [\"./drive/MyDrive/adgTravel/upselling/cardex.csv\", \"./drive/MyDrive/adgTravel/upselling/pwcJune.csv\", \"./drive/MyDrive/adgTravel/upselling/july2021.csv\", \"./drive/MyDrive/adgTravel/upselling/august2021.csv\"]\n",
        "dates = [\"12/31/2020\", \"06/30/2021\",\"07/31/2021\", now]\n",
        "\n",
        "dfArray = []\n",
        "dfArray.append(pd.read_csv(paths[0]))\n",
        "dfArray.append(pd.read_csv(paths[1]))\n",
        "\n",
        "\n",
        "# estos vienen con otro formato en las fechas y el delimitador es ;\n",
        "dfArray.append(changeDateColumnsFormat(pd.read_csv(paths[2], sep=';')))\n",
        "dfArray.append(changeDateColumnsFormat(pd.read_csv(paths[3],sep=';')))\n",
        "\n",
        "# dfArray[2].info()\n",
        "\n",
        "# df = fullExploratotyAnalysis(dfArray,dates)\n",
        "\n",
        "# dfArray[2].head()"
      ],
      "execution_count": 79,
      "outputs": [
        {
          "output_type": "stream",
          "name": "stderr",
          "text": [
            "/usr/local/lib/python3.7/dist-packages/IPython/core/interactiveshell.py:2718: DtypeWarning: Columns (30) have mixed types.Specify dtype option on import or set low_memory=False.\n",
            "  interactivity=interactivity, compiler=compiler, result=result)\n"
          ]
        }
      ]
    },
    {
      "cell_type": "code",
      "metadata": {
        "id": "U1u86Md2RGOD"
      },
      "source": [
        "# dfFilteredArray = dataExplorationByDates(dfArray, dates)\n",
        "\n",
        "dfBookings = cleaningRawData(dfArray)\n",
        "dfBookings = groupByAndCleaningDfBooking(dfBookings, dates[3])\n"
      ],
      "execution_count": 80,
      "outputs": []
    },
    {
      "cell_type": "code",
      "metadata": {
        "id": "pPa0dWyNU2lL",
        "outputId": "93c1a8f5-e20d-40a0-debd-6fc06dbd01c7",
        "colab": {
          "base_uri": "https://localhost:8080/",
          "height": 6213
        }
      },
      "source": [
        "bookingVisualization(dfBookings)"
      ],
      "execution_count": 83,
      "outputs": [
        {
          "output_type": "stream",
          "name": "stdout",
          "text": [
            "AxesSubplot(0.125,0.125;0.775x0.755)\n",
            "AxesSubplot(0.125,0.125;0.775x0.755)\n",
            "\n",
            "\n",
            "Distribucion por hoteles\n",
            "\n",
            "\n"
          ]
        },
        {
          "output_type": "display_data",
          "data": {
            "application/vnd.google.colaboratory.module+javascript": "\n      import \"https://ssl.gstatic.com/colaboratory/data_table/a6224c040fa35dcf/data_table.js\";\n\n      window.createDataTable({\n        data: [[\"H01\",\n{\n            'v': 3.86,\n            'f': \"3.86\",\n        },\n{\n            'v': 0.0,\n            'f': \"0.0\",\n        },\n{\n            'v': 0.0,\n            'f': \"0.0\",\n        },\n{\n            'v': 0.0,\n            'f': \"0.0\",\n        },\n{\n            'v': 40265816.84,\n            'f': \"40265816.84\",\n        },\n{\n            'v': 44.17,\n            'f': \"44.17\",\n        },\n{\n            'v': 6.57,\n            'f': \"6.57\",\n        },\n{\n            'v': 71.63,\n            'f': \"71.63\",\n        },\n{\n            'v': 1.95,\n            'f': \"1.95\",\n        },\n{\n            'v': 161.9,\n            'f': \"161.9\",\n        },\n{\n            'v': 19153,\n            'f': \"19153\",\n        }],\n [\"H02\",\n{\n            'v': 3.87,\n            'f': \"3.87\",\n        },\n{\n            'v': 0.0,\n            'f': \"0.0\",\n        },\n{\n            'v': 0.0,\n            'f': \"0.0\",\n        },\n{\n            'v': 0.0,\n            'f': \"0.0\",\n        },\n{\n            'v': 32972599.38,\n            'f': \"32972599.38\",\n        },\n{\n            'v': 44.24,\n            'f': \"44.24\",\n        },\n{\n            'v': 7.0,\n            'f': \"7.0\",\n        },\n{\n            'v': 89.53,\n            'f': \"89.53\",\n        },\n{\n            'v': 1.95,\n            'f': \"1.95\",\n        },\n{\n            'v': 173.21,\n            'f': \"173.21\",\n        },\n{\n            'v': 13821,\n            'f': \"13821\",\n        }],\n [\"H03\",\n{\n            'v': 3.78,\n            'f': \"3.78\",\n        },\n{\n            'v': 0.0,\n            'f': \"0.0\",\n        },\n{\n            'v': 0.0,\n            'f': \"0.0\",\n        },\n{\n            'v': 0.0,\n            'f': \"0.0\",\n        },\n{\n            'v': 15617334.76,\n            'f': \"15617334.76\",\n        },\n{\n            'v': 46.7,\n            'f': \"46.7\",\n        },\n{\n            'v': 6.85,\n            'f': \"6.85\",\n        },\n{\n            'v': 84.13,\n            'f': \"84.13\",\n        },\n{\n            'v': 1.92,\n            'f': \"1.92\",\n        },\n{\n            'v': 138.29,\n            'f': \"138.29\",\n        },\n{\n            'v': 8490,\n            'f': \"8490\",\n        }],\n [\"H04\",\n{\n            'v': 3.04,\n            'f': \"3.04\",\n        },\n{\n            'v': 0.0,\n            'f': \"0.0\",\n        },\n{\n            'v': 0.0,\n            'f': \"0.0\",\n        },\n{\n            'v': 0.0,\n            'f': \"0.0\",\n        },\n{\n            'v': 14579501.19,\n            'f': \"14579501.19\",\n        },\n{\n            'v': 46.67,\n            'f': \"46.67\",\n        },\n{\n            'v': 4.58,\n            'f': \"4.58\",\n        },\n{\n            'v': 70.89,\n            'f': \"70.89\",\n        },\n{\n            'v': 1.67,\n            'f': \"1.67\",\n        },\n{\n            'v': 98.42,\n            'f': \"98.42\",\n        },\n{\n            'v': 17180,\n            'f': \"17180\",\n        }],\n [\"H05\",\n{\n            'v': 4.29,\n            'f': \"4.29\",\n        },\n{\n            'v': 0.01,\n            'f': \"0.01\",\n        },\n{\n            'v': 0.79,\n            'f': \"0.79\",\n        },\n{\n            'v': 0.17,\n            'f': \"0.17\",\n        },\n{\n            'v': 26909557.68,\n            'f': \"26909557.68\",\n        },\n{\n            'v': 46.07,\n            'f': \"46.07\",\n        },\n{\n            'v': 7.32,\n            'f': \"7.32\",\n        },\n{\n            'v': 118.18,\n            'f': \"118.18\",\n        },\n{\n            'v': 2.02,\n            'f': \"2.02\",\n        },\n{\n            'v': 118.92,\n            'f': \"118.92\",\n        },\n{\n            'v': 14608,\n            'f': \"14608\",\n        }],\n [\"H06\",\n{\n            'v': 3.52,\n            'f': \"3.52\",\n        },\n{\n            'v': 0.02,\n            'f': \"0.02\",\n        },\n{\n            'v': 0.16,\n            'f': \"0.16\",\n        },\n{\n            'v': 0.03,\n            'f': \"0.03\",\n        },\n{\n            'v': 22308281.1,\n            'f': \"22308281.1\",\n        },\n{\n            'v': 50.68,\n            'f': \"50.68\",\n        },\n{\n            'v': 8.14,\n            'f': \"8.14\",\n        },\n{\n            'v': 87.83,\n            'f': \"87.83\",\n        },\n{\n            'v': 1.82,\n            'f': \"1.82\",\n        },\n{\n            'v': 64.62,\n            'f': \"64.62\",\n        },\n{\n            'v': 22483,\n            'f': \"22483\",\n        }],\n [\"H07\",\n{\n            'v': 3.76,\n            'f': \"3.76\",\n        },\n{\n            'v': 0.15,\n            'f': \"0.15\",\n        },\n{\n            'v': 0.11,\n            'f': \"0.11\",\n        },\n{\n            'v': 0.05,\n            'f': \"0.05\",\n        },\n{\n            'v': 28390694.76,\n            'f': \"28390694.76\",\n        },\n{\n            'v': 45.19,\n            'f': \"45.19\",\n        },\n{\n            'v': 7.47,\n            'f': \"7.47\",\n        },\n{\n            'v': 72.01,\n            'f': \"72.01\",\n        },\n{\n            'v': 1.88,\n            'f': \"1.88\",\n        },\n{\n            'v': 91.31,\n            'f': \"91.31\",\n        },\n{\n            'v': 21848,\n            'f': \"21848\",\n        }],\n [\"H10\",\n{\n            'v': 4.54,\n            'f': \"4.54\",\n        },\n{\n            'v': 0.0,\n            'f': \"0.0\",\n        },\n{\n            'v': 0.62,\n            'f': \"0.62\",\n        },\n{\n            'v': 0.15,\n            'f': \"0.15\",\n        },\n{\n            'v': 44244253.13,\n            'f': \"44244253.13\",\n        },\n{\n            'v': 45.36,\n            'f': \"45.36\",\n        },\n{\n            'v': 6.96,\n            'f': \"6.96\",\n        },\n{\n            'v': 106.04,\n            'f': \"106.04\",\n        },\n{\n            'v': 2.09,\n            'f': \"2.09\",\n        },\n{\n            'v': 162.09,\n            'f': \"162.09\",\n        },\n{\n            'v': 17877,\n            'f': \"17877\",\n        }],\n [\"H11\",\n{\n            'v': 4.92,\n            'f': \"4.92\",\n        },\n{\n            'v': 0.0,\n            'f': \"0.0\",\n        },\n{\n            'v': 1.36,\n            'f': \"1.36\",\n        },\n{\n            'v': 0.18,\n            'f': \"0.18\",\n        },\n{\n            'v': 22661846.98,\n            'f': \"22661846.98\",\n        },\n{\n            'v': 45.2,\n            'f': \"45.2\",\n        },\n{\n            'v': 6.64,\n            'f': \"6.64\",\n        },\n{\n            'v': 116.47,\n            'f': \"116.47\",\n        },\n{\n            'v': 2.15,\n            'f': \"2.15\",\n        },\n{\n            'v': 142.59,\n            'f': \"142.59\",\n        },\n{\n            'v': 10449,\n            'f': \"10449\",\n        }],\n [\"H12\",\n{\n            'v': 4.35,\n            'f': \"4.35\",\n        },\n{\n            'v': 0.0,\n            'f': \"0.0\",\n        },\n{\n            'v': 0.36,\n            'f': \"0.36\",\n        },\n{\n            'v': 0.07,\n            'f': \"0.07\",\n        },\n{\n            'v': 29401096.18,\n            'f': \"29401096.18\",\n        },\n{\n            'v': 44.05,\n            'f': \"44.05\",\n        },\n{\n            'v': 7.07,\n            'f': \"7.07\",\n        },\n{\n            'v': 120.11,\n            'f': \"120.11\",\n        },\n{\n            'v': 2.05,\n            'f': \"2.05\",\n        },\n{\n            'v': 180.44,\n            'f': \"180.44\",\n        },\n{\n            'v': 10838,\n            'f': \"10838\",\n        }],\n [\"H13\",\n{\n            'v': 4.34,\n            'f': \"4.34\",\n        },\n{\n            'v': 0.0,\n            'f': \"0.0\",\n        },\n{\n            'v': 0.9,\n            'f': \"0.9\",\n        },\n{\n            'v': 0.2,\n            'f': \"0.2\",\n        },\n{\n            'v': 45976578.78,\n            'f': \"45976578.78\",\n        },\n{\n            'v': 45.69,\n            'f': \"45.69\",\n        },\n{\n            'v': 7.58,\n            'f': \"7.58\",\n        },\n{\n            'v': 130.34,\n            'f': \"130.34\",\n        },\n{\n            'v': 2.03,\n            'f': \"2.03\",\n        },\n{\n            'v': 144.59,\n            'f': \"144.59\",\n        },\n{\n            'v': 20105,\n            'f': \"20105\",\n        }],\n [\"H14\",\n{\n            'v': 4.23,\n            'f': \"4.23\",\n        },\n{\n            'v': 0.0,\n            'f': \"0.0\",\n        },\n{\n            'v': 0.14,\n            'f': \"0.14\",\n        },\n{\n            'v': 0.03,\n            'f': \"0.03\",\n        },\n{\n            'v': 6342158.72,\n            'f': \"6342158.72\",\n        },\n{\n            'v': 43.94,\n            'f': \"43.94\",\n        },\n{\n            'v': 6.98,\n            'f': \"6.98\",\n        },\n{\n            'v': 71.9,\n            'f': \"71.9\",\n        },\n{\n            'v': 2.0,\n            'f': \"2.0\",\n        },\n{\n            'v': 125.54,\n            'f': \"125.54\",\n        },\n{\n            'v': 3478,\n            'f': \"3478\",\n        }],\n [\"H15\",\n{\n            'v': 5.69,\n            'f': \"5.69\",\n        },\n{\n            'v': 0.0,\n            'f': \"0.0\",\n        },\n{\n            'v': 0.0,\n            'f': \"0.0\",\n        },\n{\n            'v': 0.0,\n            'f': \"0.0\",\n        },\n{\n            'v': 9364046.34,\n            'f': \"9364046.34\",\n        },\n{\n            'v': 37.03,\n            'f': \"37.03\",\n        },\n{\n            'v': 5.45,\n            'f': \"5.45\",\n        },\n{\n            'v': 75.56,\n            'f': \"75.56\",\n        },\n{\n            'v': 2.26,\n            'f': \"2.26\",\n        },\n{\n            'v': 110.14,\n            'f': \"110.14\",\n        },\n{\n            'v': 6585,\n            'f': \"6585\",\n        }],\n [\"H20\",\n{\n            'v': 3.42,\n            'f': \"3.42\",\n        },\n{\n            'v': 0.07,\n            'f': \"0.07\",\n        },\n{\n            'v': 0.05,\n            'f': \"0.05\",\n        },\n{\n            'v': 0.04,\n            'f': \"0.04\",\n        },\n{\n            'v': 21131734.78,\n            'f': \"21131734.78\",\n        },\n{\n            'v': 43.32,\n            'f': \"43.32\",\n        },\n{\n            'v': 5.63,\n            'f': \"5.63\",\n        },\n{\n            'v': 27.94,\n            'f': \"27.94\",\n        },\n{\n            'v': 1.8,\n            'f': \"1.8\",\n        },\n{\n            'v': 194.39,\n            'f': \"194.39\",\n        },\n{\n            'v': 10173,\n            'f': \"10173\",\n        }],\n [\"H21\",\n{\n            'v': 4.37,\n            'f': \"4.37\",\n        },\n{\n            'v': 0.0,\n            'f': \"0.0\",\n        },\n{\n            'v': 0.81,\n            'f': \"0.81\",\n        },\n{\n            'v': 0.07,\n            'f': \"0.07\",\n        },\n{\n            'v': 8852878.61,\n            'f': \"8852878.61\",\n        },\n{\n            'v': 45.58,\n            'f': \"45.58\",\n        },\n{\n            'v': 6.53,\n            'f': \"6.53\",\n        },\n{\n            'v': 47.93,\n            'f': \"47.93\",\n        },\n{\n            'v': 2.03,\n            'f': \"2.03\",\n        },\n{\n            'v': 159.15,\n            'f': \"159.15\",\n        },\n{\n            'v': 4053,\n            'f': \"4053\",\n        }],\n [\"H22\",\n{\n            'v': 3.8,\n            'f': \"3.8\",\n        },\n{\n            'v': 0.0,\n            'f': \"0.0\",\n        },\n{\n            'v': 0.45,\n            'f': \"0.45\",\n        },\n{\n            'v': 0.05,\n            'f': \"0.05\",\n        },\n{\n            'v': 11875116.67,\n            'f': \"11875116.67\",\n        },\n{\n            'v': 48.59,\n            'f': \"48.59\",\n        },\n{\n            'v': 5.3,\n            'f': \"5.3\",\n        },\n{\n            'v': 28.08,\n            'f': \"28.08\",\n        },\n{\n            'v': 1.92,\n            'f': \"1.92\",\n        },\n{\n            'v': 251.89,\n            'f': \"251.89\",\n        },\n{\n            'v': 4213,\n            'f': \"4213\",\n        }],\n [\"H25\",\n{\n            'v': 3.53,\n            'f': \"3.53\",\n        },\n{\n            'v': 0.0,\n            'f': \"0.0\",\n        },\n{\n            'v': 0.1,\n            'f': \"0.1\",\n        },\n{\n            'v': 0.0,\n            'f': \"0.0\",\n        },\n{\n            'v': 203527.76,\n            'f': \"203527.76\",\n        },\n{\n            'v': 51.53,\n            'f': \"51.53\",\n        },\n{\n            'v': 5.0,\n            'f': \"5.0\",\n        },\n{\n            'v': 25.19,\n            'f': \"25.19\",\n        },\n{\n            'v': 1.82,\n            'f': \"1.82\",\n        },\n{\n            'v': 312.15,\n            'f': \"312.15\",\n        },\n{\n            'v': 62,\n            'f': \"62\",\n        }],\n [\"H26\",\n{\n            'v': 3.82,\n            'f': \"3.82\",\n        },\n{\n            'v': 0.0,\n            'f': \"0.0\",\n        },\n{\n            'v': 0.0,\n            'f': \"0.0\",\n        },\n{\n            'v': 0.0,\n            'f': \"0.0\",\n        },\n{\n            'v': 150605.51,\n            'f': \"150605.51\",\n        },\n{\n            'v': 40.62,\n            'f': \"40.62\",\n        },\n{\n            'v': 4.99,\n            'f': \"4.99\",\n        },\n{\n            'v': 32.7,\n            'f': \"32.7\",\n        },\n{\n            'v': 1.92,\n            'f': \"1.92\",\n        },\n{\n            'v': 182.52,\n            'f': \"182.52\",\n        },\n{\n            'v': 80,\n            'f': \"80\",\n        }],\n [\"H27\",\n{\n            'v': 4.1,\n            'f': \"4.1\",\n        },\n{\n            'v': 0.0,\n            'f': \"0.0\",\n        },\n{\n            'v': 0.1,\n            'f': \"0.1\",\n        },\n{\n            'v': 0.03,\n            'f': \"0.03\",\n        },\n{\n            'v': 244974.77,\n            'f': \"244974.77\",\n        },\n{\n            'v': 37.17,\n            'f': \"37.17\",\n        },\n{\n            'v': 5.2,\n            'f': \"5.2\",\n        },\n{\n            'v': 36.54,\n            'f': \"36.54\",\n        },\n{\n            'v': 2.0,\n            'f': \"2.0\",\n        },\n{\n            'v': 161.82,\n            'f': \"161.82\",\n        },\n{\n            'v': 145,\n            'f': \"145\",\n        }],\n [\"H28\",\n{\n            'v': 4.0,\n            'f': \"4.0\",\n        },\n{\n            'v': 0.0,\n            'f': \"0.0\",\n        },\n{\n            'v': 0.0,\n            'f': \"0.0\",\n        },\n{\n            'v': 0.0,\n            'f': \"0.0\",\n        },\n{\n            'v': 2246.0,\n            'f': \"2246.0\",\n        },\n{\n            'v': 27.0,\n            'f': \"27.0\",\n        },\n{\n            'v': 5.0,\n            'f': \"5.0\",\n        },\n{\n            'v': 42.5,\n            'f': \"42.5\",\n        },\n{\n            'v': 2.0,\n            'f': \"2.0\",\n        },\n{\n            'v': 112.3,\n            'f': \"112.3\",\n        },\n{\n            'v': 2,\n            'f': \"2\",\n        }],\n [\"H29\",\n{\n            'v': 4.83,\n            'f': \"4.83\",\n        },\n{\n            'v': 0.0,\n            'f': \"0.0\",\n        },\n{\n            'v': 0.7,\n            'f': \"0.7\",\n        },\n{\n            'v': 0.09,\n            'f': \"0.09\",\n        },\n{\n            'v': 56033.93,\n            'f': \"56033.93\",\n        },\n{\n            'v': 38.91,\n            'f': \"38.91\",\n        },\n{\n            'v': 6.13,\n            'f': \"6.13\",\n        },\n{\n            'v': 37.43,\n            'f': \"37.43\",\n        },\n{\n            'v': 2.13,\n            'f': \"2.13\",\n        },\n{\n            'v': 185.17,\n            'f': \"185.17\",\n        },\n{\n            'v': 23,\n            'f': \"23\",\n        }],\n [\"H30\",\n{\n            'v': 3.96,\n            'f': \"3.96\",\n        },\n{\n            'v': 0.04,\n            'f': \"0.04\",\n        },\n{\n            'v': 0.41,\n            'f': \"0.41\",\n        },\n{\n            'v': 0.05,\n            'f': \"0.05\",\n        },\n{\n            'v': 150963.52,\n            'f': \"150963.52\",\n        },\n{\n            'v': 38.99,\n            'f': \"38.99\",\n        },\n{\n            'v': 5.8,\n            'f': \"5.8\",\n        },\n{\n            'v': 44.73,\n            'f': \"44.73\",\n        },\n{\n            'v': 1.97,\n            'f': \"1.97\",\n        },\n{\n            'v': 115.09,\n            'f': \"115.09\",\n        },\n{\n            'v': 114,\n            'f': \"114\",\n        }],\n [\"H31\",\n{\n            'v': 4.19,\n            'f': \"4.19\",\n        },\n{\n            'v': 0.03,\n            'f': \"0.03\",\n        },\n{\n            'v': 0.31,\n            'f': \"0.31\",\n        },\n{\n            'v': 0.01,\n            'f': \"0.01\",\n        },\n{\n            'v': 681438.4,\n            'f': \"681438.4\",\n        },\n{\n            'v': 40.46,\n            'f': \"40.46\",\n        },\n{\n            'v': 5.2,\n            'f': \"5.2\",\n        },\n{\n            'v': 33.02,\n            'f': \"33.02\",\n        },\n{\n            'v': 2.0,\n            'f': \"2.0\",\n        },\n{\n            'v': 137.03,\n            'f': \"137.03\",\n        },\n{\n            'v': 459,\n            'f': \"459\",\n        }],\n [\"H32\",\n{\n            'v': 3.23,\n            'f': \"3.23\",\n        },\n{\n            'v': 0.0,\n            'f': \"0.0\",\n        },\n{\n            'v': 0.0,\n            'f': \"0.0\",\n        },\n{\n            'v': 0.0,\n            'f': \"0.0\",\n        },\n{\n            'v': 59638.11,\n            'f': \"59638.11\",\n        },\n{\n            'v': 40.56,\n            'f': \"40.56\",\n        },\n{\n            'v': 4.45,\n            'f': \"4.45\",\n        },\n{\n            'v': 17.14,\n            'f': \"17.14\",\n        },\n{\n            'v': 1.68,\n            'f': \"1.68\",\n        },\n{\n            'v': 352.63,\n            'f': \"352.63\",\n        },\n{\n            'v': 22,\n            'f': \"22\",\n        }],\n [\"H33\",\n{\n            'v': 3.85,\n            'f': \"3.85\",\n        },\n{\n            'v': 0.0,\n            'f': \"0.0\",\n        },\n{\n            'v': 0.14,\n            'f': \"0.14\",\n        },\n{\n            'v': 0.06,\n            'f': \"0.06\",\n        },\n{\n            'v': 509559.36,\n            'f': \"509559.36\",\n        },\n{\n            'v': 35.18,\n            'f': \"35.18\",\n        },\n{\n            'v': 6.01,\n            'f': \"6.01\",\n        },\n{\n            'v': 33.2,\n            'f': \"33.2\",\n        },\n{\n            'v': 1.95,\n            'f': \"1.95\",\n        },\n{\n            'v': 144.31,\n            'f': \"144.31\",\n        },\n{\n            'v': 302,\n            'f': \"302\",\n        }],\n [\"H34\",\n{\n            'v': 4.0,\n            'f': \"4.0\",\n        },\n{\n            'v': 0.0,\n            'f': \"0.0\",\n        },\n{\n            'v': 0.4,\n            'f': \"0.4\",\n        },\n{\n            'v': 0.2,\n            'f': \"0.2\",\n        },\n{\n            'v': 19896.76,\n            'f': \"19896.76\",\n        },\n{\n            'v': 36.2,\n            'f': \"36.2\",\n        },\n{\n            'v': 7.1,\n            'f': \"7.1\",\n        },\n{\n            'v': 121.7,\n            'f': \"121.7\",\n        },\n{\n            'v': 2.0,\n            'f': \"2.0\",\n        },\n{\n            'v': 141.35,\n            'f': \"141.35\",\n        },\n{\n            'v': 10,\n            'f': \"10\",\n        }],\n [\"H40\",\n{\n            'v': 3.67,\n            'f': \"3.67\",\n        },\n{\n            'v': 0.02,\n            'f': \"0.02\",\n        },\n{\n            'v': 0.16,\n            'f': \"0.16\",\n        },\n{\n            'v': 0.04,\n            'f': \"0.04\",\n        },\n{\n            'v': 1382109.44,\n            'f': \"1382109.44\",\n        },\n{\n            'v': 40.78,\n            'f': \"40.78\",\n        },\n{\n            'v': 5.37,\n            'f': \"5.37\",\n        },\n{\n            'v': 26.38,\n            'f': \"26.38\",\n        },\n{\n            'v': 1.87,\n            'f': \"1.87\",\n        },\n{\n            'v': 109.6,\n            'f': \"109.6\",\n        },\n{\n            'v': 1221,\n            'f': \"1221\",\n        }],\n [\"H41\",\n{\n            'v': 4.07,\n            'f': \"4.07\",\n        },\n{\n            'v': 0.07,\n            'f': \"0.07\",\n        },\n{\n            'v': 0.18,\n            'f': \"0.18\",\n        },\n{\n            'v': 0.07,\n            'f': \"0.07\",\n        },\n{\n            'v': 160316.58,\n            'f': \"160316.58\",\n        },\n{\n            'v': 44.92,\n            'f': \"44.92\",\n        },\n{\n            'v': 6.67,\n            'f': \"6.67\",\n        },\n{\n            'v': 33.11,\n            'f': \"33.11\",\n        },\n{\n            'v': 1.98,\n            'f': \"1.98\",\n        },\n{\n            'v': 189.07,\n            'f': \"189.07\",\n        },\n{\n            'v': 61,\n            'f': \"61\",\n        }],\n [\"H42\",\n{\n            'v': 3.51,\n            'f': \"3.51\",\n        },\n{\n            'v': 0.0,\n            'f': \"0.0\",\n        },\n{\n            'v': 0.0,\n            'f': \"0.0\",\n        },\n{\n            'v': 0.0,\n            'f': \"0.0\",\n        },\n{\n            'v': 860831.7,\n            'f': \"860831.7\",\n        },\n{\n            'v': 39.62,\n            'f': \"39.62\",\n        },\n{\n            'v': 5.71,\n            'f': \"5.71\",\n        },\n{\n            'v': 15.44,\n            'f': \"15.44\",\n        },\n{\n            'v': 1.83,\n            'f': \"1.83\",\n        },\n{\n            'v': 127.91,\n            'f': \"127.91\",\n        },\n{\n            'v': 609,\n            'f': \"609\",\n        }],\n [\"H43\",\n{\n            'v': 4.47,\n            'f': \"4.47\",\n        },\n{\n            'v': 0.0,\n            'f': \"0.0\",\n        },\n{\n            'v': 0.63,\n            'f': \"0.63\",\n        },\n{\n            'v': 0.07,\n            'f': \"0.07\",\n        },\n{\n            'v': 264787.67,\n            'f': \"264787.67\",\n        },\n{\n            'v': 35.21,\n            'f': \"35.21\",\n        },\n{\n            'v': 5.79,\n            'f': \"5.79\",\n        },\n{\n            'v': 23.72,\n            'f': \"23.72\",\n        },\n{\n            'v': 2.07,\n            'f': \"2.07\",\n        },\n{\n            'v': 153.6,\n            'f': \"153.6\",\n        },\n{\n            'v': 137,\n            'f': \"137\",\n        }],\n [\"H44\",\n{\n            'v': 3.26,\n            'f': \"3.26\",\n        },\n{\n            'v': 0.0,\n            'f': \"0.0\",\n        },\n{\n            'v': 0.08,\n            'f': \"0.08\",\n        },\n{\n            'v': 0.01,\n            'f': \"0.01\",\n        },\n{\n            'v': 1010209.2,\n            'f': \"1010209.2\",\n        },\n{\n            'v': 39.97,\n            'f': \"39.97\",\n        },\n{\n            'v': 3.85,\n            'f': \"3.85\",\n        },\n{\n            'v': 14.56,\n            'f': \"14.56\",\n        },\n{\n            'v': 1.73,\n            'f': \"1.73\",\n        },\n{\n            'v': 84.42,\n            'f': \"84.42\",\n        },\n{\n            'v': 1691,\n            'f': \"1691\",\n        }],\n [\"H45\",\n{\n            'v': 2.98,\n            'f': \"2.98\",\n        },\n{\n            'v': 0.03,\n            'f': \"0.03\",\n        },\n{\n            'v': 0.07,\n            'f': \"0.07\",\n        },\n{\n            'v': 0.0,\n            'f': \"0.0\",\n        },\n{\n            'v': 38506.69,\n            'f': \"38506.69\",\n        },\n{\n            'v': 45.5,\n            'f': \"45.5\",\n        },\n{\n            'v': 6.48,\n            'f': \"6.48\",\n        },\n{\n            'v': 20.68,\n            'f': \"20.68\",\n        },\n{\n            'v': 1.65,\n            'f': \"1.65\",\n        },\n{\n            'v': 56.67,\n            'f': \"56.67\",\n        },\n{\n            'v': 60,\n            'f': \"60\",\n        }],\n [\"H46\",\n{\n            'v': 4.0,\n            'f': \"4.0\",\n        },\n{\n            'v': 0.0,\n            'f': \"0.0\",\n        },\n{\n            'v': 0.0,\n            'f': \"0.0\",\n        },\n{\n            'v': 0.0,\n            'f': \"0.0\",\n        },\n{\n            'v': 2214.38,\n            'f': \"2214.38\",\n        },\n{\n            'v': 50.0,\n            'f': \"50.0\",\n        },\n{\n            'v': 7.0,\n            'f': \"7.0\",\n        },\n{\n            'v': 37.0,\n            'f': \"37.0\",\n        },\n{\n            'v': 2.0,\n            'f': \"2.0\",\n        },\n{\n            'v': 158.17,\n            'f': \"158.17\",\n        },\n{\n            'v': 1,\n            'f': \"1\",\n        }],\n [\"H47\",\n{\n            'v': 3.94,\n            'f': \"3.94\",\n        },\n{\n            'v': 0.0,\n            'f': \"0.0\",\n        },\n{\n            'v': 0.32,\n            'f': \"0.32\",\n        },\n{\n            'v': 0.01,\n            'f': \"0.01\",\n        },\n{\n            'v': 262144.01,\n            'f': \"262144.01\",\n        },\n{\n            'v': 38.46,\n            'f': \"38.46\",\n        },\n{\n            'v': 6.01,\n            'f': \"6.01\",\n        },\n{\n            'v': 17.81,\n            'f': \"17.81\",\n        },\n{\n            'v': 1.96,\n            'f': \"1.96\",\n        },\n{\n            'v': 156.69,\n            'f': \"156.69\",\n        },\n{\n            'v': 139,\n            'f': \"139\",\n        }],\n [\"H48\",\n{\n            'v': 4.26,\n            'f': \"4.26\",\n        },\n{\n            'v': 0.0,\n            'f': \"0.0\",\n        },\n{\n            'v': 0.38,\n            'f': \"0.38\",\n        },\n{\n            'v': 0.08,\n            'f': \"0.08\",\n        },\n{\n            'v': 1202711.5,\n            'f': \"1202711.5\",\n        },\n{\n            'v': 43.61,\n            'f': \"43.61\",\n        },\n{\n            'v': 3.39,\n            'f': \"3.39\",\n        },\n{\n            'v': 21.43,\n            'f': \"21.43\",\n        },\n{\n            'v': 2.0,\n            'f': \"2.0\",\n        },\n{\n            'v': 128.17,\n            'f': \"128.17\",\n        },\n{\n            'v': 1271,\n            'f': \"1271\",\n        }],\n [\"H49\",\n{\n            'v': 4.37,\n            'f': \"4.37\",\n        },\n{\n            'v': 0.0,\n            'f': \"0.0\",\n        },\n{\n            'v': 0.74,\n            'f': \"0.74\",\n        },\n{\n            'v': 0.1,\n            'f': \"0.1\",\n        },\n{\n            'v': 3507522.56,\n            'f': \"3507522.56\",\n        },\n{\n            'v': 43.27,\n            'f': \"43.27\",\n        },\n{\n            'v': 3.71,\n            'f': \"3.71\",\n        },\n{\n            'v': 24.76,\n            'f': \"24.76\",\n        },\n{\n            'v': 2.03,\n            'f': \"2.03\",\n        },\n{\n            'v': 141.28,\n            'f': \"141.28\",\n        },\n{\n            'v': 2968,\n            'f': \"2968\",\n        }],\n [\"H50\",\n{\n            'v': 3.39,\n            'f': \"3.39\",\n        },\n{\n            'v': 0.03,\n            'f': \"0.03\",\n        },\n{\n            'v': 1.15,\n            'f': \"1.15\",\n        },\n{\n            'v': 0.11,\n            'f': \"0.11\",\n        },\n{\n            'v': 1525319.5,\n            'f': \"1525319.5\",\n        },\n{\n            'v': 39.59,\n            'f': \"39.59\",\n        },\n{\n            'v': 3.01,\n            'f': \"3.01\",\n        },\n{\n            'v': 23.24,\n            'f': \"23.24\",\n        },\n{\n            'v': 1.69,\n            'f': \"1.69\",\n        },\n{\n            'v': 169.55,\n            'f': \"169.55\",\n        },\n{\n            'v': 1683,\n            'f': \"1683\",\n        }],\n [\"H51\",\n{\n            'v': 2.95,\n            'f': \"2.95\",\n        },\n{\n            'v': 0.0,\n            'f': \"0.0\",\n        },\n{\n            'v': 0.21,\n            'f': \"0.21\",\n        },\n{\n            'v': 0.05,\n            'f': \"0.05\",\n        },\n{\n            'v': 25295.09,\n            'f': \"25295.09\",\n        },\n{\n            'v': 47.76,\n            'f': \"47.76\",\n        },\n{\n            'v': 3.84,\n            'f': \"3.84\",\n        },\n{\n            'v': 34.71,\n            'f': \"34.71\",\n        },\n{\n            'v': 1.63,\n            'f': \"1.63\",\n        },\n{\n            'v': 100.36,\n            'f': \"100.36\",\n        },\n{\n            'v': 38,\n            'f': \"38\",\n        }],\n [\"H52\",\n{\n            'v': 3.64,\n            'f': \"3.64\",\n        },\n{\n            'v': 0.0,\n            'f': \"0.0\",\n        },\n{\n            'v': 0.0,\n            'f': \"0.0\",\n        },\n{\n            'v': 0.0,\n            'f': \"0.0\",\n        },\n{\n            'v': 1147873.05,\n            'f': \"1147873.05\",\n        },\n{\n            'v': 45.28,\n            'f': \"45.28\",\n        },\n{\n            'v': 3.48,\n            'f': \"3.48\",\n        },\n{\n            'v': 18.0,\n            'f': \"18.0\",\n        },\n{\n            'v': 1.83,\n            'f': \"1.83\",\n        },\n{\n            'v': 112.62,\n            'f': \"112.62\",\n        },\n{\n            'v': 1490,\n            'f': \"1490\",\n        }],\n [\"H53\",\n{\n            'v': 4.16,\n            'f': \"4.16\",\n        },\n{\n            'v': 0.02,\n            'f': \"0.02\",\n        },\n{\n            'v': 1.67,\n            'f': \"1.67\",\n        },\n{\n            'v': 0.22,\n            'f': \"0.22\",\n        },\n{\n            'v': 1784617.99,\n            'f': \"1784617.99\",\n        },\n{\n            'v': 39.43,\n            'f': \"39.43\",\n        },\n{\n            'v': 3.34,\n            'f': \"3.34\",\n        },\n{\n            'v': 22.77,\n            'f': \"22.77\",\n        },\n{\n            'v': 2.0,\n            'f': \"2.0\",\n        },\n{\n            'v': 149.5,\n            'f': \"149.5\",\n        },\n{\n            'v': 1738,\n            'f': \"1738\",\n        }],\n [\"H55\",\n{\n            'v': 8.19,\n            'f': \"8.19\",\n        },\n{\n            'v': 0.02,\n            'f': \"0.02\",\n        },\n{\n            'v': 1.04,\n            'f': \"1.04\",\n        },\n{\n            'v': 0.08,\n            'f': \"0.08\",\n        },\n{\n            'v': 357855.41,\n            'f': \"357855.41\",\n        },\n{\n            'v': 36.75,\n            'f': \"36.75\",\n        },\n{\n            'v': 5.05,\n            'f': \"5.05\",\n        },\n{\n            'v': 33.91,\n            'f': \"33.91\",\n        },\n{\n            'v': 2.65,\n            'f': \"2.65\",\n        },\n{\n            'v': 136.64,\n            'f': \"136.64\",\n        },\n{\n            'v': 181,\n            'f': \"181\",\n        }]],\n        columns: [[\"string\", \"HotelFactura\"], [\"number\", \"AD\"], [\"number\", \"JR\"], [\"number\", \"NI\"], [\"number\", \"CU\"], [\"number\", \"Facturado\"], [\"number\", \"Edad\"], [\"number\", \"DiasReservaMedia\"], [\"number\", \"DiasEntreReservaEntrada\"], [\"number\", \"NumeroHabitaciones\"], [\"number\", \"FacturadoXHab\"], [\"number\", \"Cantidad\"]],\n        columnOptions: [{\"width\": \"1px\", \"className\": \"index_column\"}],\n        rowsPerPage: 20,\n        helpUrl: \"https://colab.research.google.com/notebooks/data_table.ipynb\",\n        suppressOutputScrolling: true,\n        minimumWidth: undefined,\n      });\n    ",
            "text/plain": [
              "<google.colab.data_table.DataTable object>"
            ],
            "text/html": [
              "<div>\n",
              "<style scoped>\n",
              "    .dataframe tbody tr th:only-of-type {\n",
              "        vertical-align: middle;\n",
              "    }\n",
              "\n",
              "    .dataframe tbody tr th {\n",
              "        vertical-align: top;\n",
              "    }\n",
              "\n",
              "    .dataframe thead th {\n",
              "        text-align: right;\n",
              "    }\n",
              "</style>\n",
              "<table border=\"1\" class=\"dataframe\">\n",
              "  <thead>\n",
              "    <tr style=\"text-align: right;\">\n",
              "      <th></th>\n",
              "      <th>AD</th>\n",
              "      <th>JR</th>\n",
              "      <th>NI</th>\n",
              "      <th>CU</th>\n",
              "      <th>Facturado</th>\n",
              "      <th>Edad</th>\n",
              "      <th>DiasReservaMedia</th>\n",
              "      <th>DiasEntreReservaEntrada</th>\n",
              "      <th>NumeroHabitaciones</th>\n",
              "      <th>FacturadoXHab</th>\n",
              "      <th>Cantidad</th>\n",
              "    </tr>\n",
              "    <tr>\n",
              "      <th>HotelFactura</th>\n",
              "      <th></th>\n",
              "      <th></th>\n",
              "      <th></th>\n",
              "      <th></th>\n",
              "      <th></th>\n",
              "      <th></th>\n",
              "      <th></th>\n",
              "      <th></th>\n",
              "      <th></th>\n",
              "      <th></th>\n",
              "      <th></th>\n",
              "    </tr>\n",
              "  </thead>\n",
              "  <tbody>\n",
              "    <tr>\n",
              "      <th>H01</th>\n",
              "      <td>3.86</td>\n",
              "      <td>0.00</td>\n",
              "      <td>0.00</td>\n",
              "      <td>0.00</td>\n",
              "      <td>40265816.84</td>\n",
              "      <td>44.17</td>\n",
              "      <td>6.57</td>\n",
              "      <td>71.63</td>\n",
              "      <td>1.95</td>\n",
              "      <td>161.90</td>\n",
              "      <td>19153</td>\n",
              "    </tr>\n",
              "    <tr>\n",
              "      <th>H02</th>\n",
              "      <td>3.87</td>\n",
              "      <td>0.00</td>\n",
              "      <td>0.00</td>\n",
              "      <td>0.00</td>\n",
              "      <td>32972599.38</td>\n",
              "      <td>44.24</td>\n",
              "      <td>7.00</td>\n",
              "      <td>89.53</td>\n",
              "      <td>1.95</td>\n",
              "      <td>173.21</td>\n",
              "      <td>13821</td>\n",
              "    </tr>\n",
              "    <tr>\n",
              "      <th>H03</th>\n",
              "      <td>3.78</td>\n",
              "      <td>0.00</td>\n",
              "      <td>0.00</td>\n",
              "      <td>0.00</td>\n",
              "      <td>15617334.76</td>\n",
              "      <td>46.70</td>\n",
              "      <td>6.85</td>\n",
              "      <td>84.13</td>\n",
              "      <td>1.92</td>\n",
              "      <td>138.29</td>\n",
              "      <td>8490</td>\n",
              "    </tr>\n",
              "    <tr>\n",
              "      <th>H04</th>\n",
              "      <td>3.04</td>\n",
              "      <td>0.00</td>\n",
              "      <td>0.00</td>\n",
              "      <td>0.00</td>\n",
              "      <td>14579501.19</td>\n",
              "      <td>46.67</td>\n",
              "      <td>4.58</td>\n",
              "      <td>70.89</td>\n",
              "      <td>1.67</td>\n",
              "      <td>98.42</td>\n",
              "      <td>17180</td>\n",
              "    </tr>\n",
              "    <tr>\n",
              "      <th>H05</th>\n",
              "      <td>4.29</td>\n",
              "      <td>0.01</td>\n",
              "      <td>0.79</td>\n",
              "      <td>0.17</td>\n",
              "      <td>26909557.68</td>\n",
              "      <td>46.07</td>\n",
              "      <td>7.32</td>\n",
              "      <td>118.18</td>\n",
              "      <td>2.02</td>\n",
              "      <td>118.92</td>\n",
              "      <td>14608</td>\n",
              "    </tr>\n",
              "    <tr>\n",
              "      <th>H06</th>\n",
              "      <td>3.52</td>\n",
              "      <td>0.02</td>\n",
              "      <td>0.16</td>\n",
              "      <td>0.03</td>\n",
              "      <td>22308281.10</td>\n",
              "      <td>50.68</td>\n",
              "      <td>8.14</td>\n",
              "      <td>87.83</td>\n",
              "      <td>1.82</td>\n",
              "      <td>64.62</td>\n",
              "      <td>22483</td>\n",
              "    </tr>\n",
              "    <tr>\n",
              "      <th>H07</th>\n",
              "      <td>3.76</td>\n",
              "      <td>0.15</td>\n",
              "      <td>0.11</td>\n",
              "      <td>0.05</td>\n",
              "      <td>28390694.76</td>\n",
              "      <td>45.19</td>\n",
              "      <td>7.47</td>\n",
              "      <td>72.01</td>\n",
              "      <td>1.88</td>\n",
              "      <td>91.31</td>\n",
              "      <td>21848</td>\n",
              "    </tr>\n",
              "    <tr>\n",
              "      <th>H10</th>\n",
              "      <td>4.54</td>\n",
              "      <td>0.00</td>\n",
              "      <td>0.62</td>\n",
              "      <td>0.15</td>\n",
              "      <td>44244253.13</td>\n",
              "      <td>45.36</td>\n",
              "      <td>6.96</td>\n",
              "      <td>106.04</td>\n",
              "      <td>2.09</td>\n",
              "      <td>162.09</td>\n",
              "      <td>17877</td>\n",
              "    </tr>\n",
              "    <tr>\n",
              "      <th>H11</th>\n",
              "      <td>4.92</td>\n",
              "      <td>0.00</td>\n",
              "      <td>1.36</td>\n",
              "      <td>0.18</td>\n",
              "      <td>22661846.98</td>\n",
              "      <td>45.20</td>\n",
              "      <td>6.64</td>\n",
              "      <td>116.47</td>\n",
              "      <td>2.15</td>\n",
              "      <td>142.59</td>\n",
              "      <td>10449</td>\n",
              "    </tr>\n",
              "    <tr>\n",
              "      <th>H12</th>\n",
              "      <td>4.35</td>\n",
              "      <td>0.00</td>\n",
              "      <td>0.36</td>\n",
              "      <td>0.07</td>\n",
              "      <td>29401096.18</td>\n",
              "      <td>44.05</td>\n",
              "      <td>7.07</td>\n",
              "      <td>120.11</td>\n",
              "      <td>2.05</td>\n",
              "      <td>180.44</td>\n",
              "      <td>10838</td>\n",
              "    </tr>\n",
              "    <tr>\n",
              "      <th>H13</th>\n",
              "      <td>4.34</td>\n",
              "      <td>0.00</td>\n",
              "      <td>0.90</td>\n",
              "      <td>0.20</td>\n",
              "      <td>45976578.78</td>\n",
              "      <td>45.69</td>\n",
              "      <td>7.58</td>\n",
              "      <td>130.34</td>\n",
              "      <td>2.03</td>\n",
              "      <td>144.59</td>\n",
              "      <td>20105</td>\n",
              "    </tr>\n",
              "    <tr>\n",
              "      <th>H14</th>\n",
              "      <td>4.23</td>\n",
              "      <td>0.00</td>\n",
              "      <td>0.14</td>\n",
              "      <td>0.03</td>\n",
              "      <td>6342158.72</td>\n",
              "      <td>43.94</td>\n",
              "      <td>6.98</td>\n",
              "      <td>71.90</td>\n",
              "      <td>2.00</td>\n",
              "      <td>125.54</td>\n",
              "      <td>3478</td>\n",
              "    </tr>\n",
              "    <tr>\n",
              "      <th>H15</th>\n",
              "      <td>5.69</td>\n",
              "      <td>0.00</td>\n",
              "      <td>0.00</td>\n",
              "      <td>0.00</td>\n",
              "      <td>9364046.34</td>\n",
              "      <td>37.03</td>\n",
              "      <td>5.45</td>\n",
              "      <td>75.56</td>\n",
              "      <td>2.26</td>\n",
              "      <td>110.14</td>\n",
              "      <td>6585</td>\n",
              "    </tr>\n",
              "    <tr>\n",
              "      <th>H20</th>\n",
              "      <td>3.42</td>\n",
              "      <td>0.07</td>\n",
              "      <td>0.05</td>\n",
              "      <td>0.04</td>\n",
              "      <td>21131734.78</td>\n",
              "      <td>43.32</td>\n",
              "      <td>5.63</td>\n",
              "      <td>27.94</td>\n",
              "      <td>1.80</td>\n",
              "      <td>194.39</td>\n",
              "      <td>10173</td>\n",
              "    </tr>\n",
              "    <tr>\n",
              "      <th>H21</th>\n",
              "      <td>4.37</td>\n",
              "      <td>0.00</td>\n",
              "      <td>0.81</td>\n",
              "      <td>0.07</td>\n",
              "      <td>8852878.61</td>\n",
              "      <td>45.58</td>\n",
              "      <td>6.53</td>\n",
              "      <td>47.93</td>\n",
              "      <td>2.03</td>\n",
              "      <td>159.15</td>\n",
              "      <td>4053</td>\n",
              "    </tr>\n",
              "    <tr>\n",
              "      <th>H22</th>\n",
              "      <td>3.80</td>\n",
              "      <td>0.00</td>\n",
              "      <td>0.45</td>\n",
              "      <td>0.05</td>\n",
              "      <td>11875116.67</td>\n",
              "      <td>48.59</td>\n",
              "      <td>5.30</td>\n",
              "      <td>28.08</td>\n",
              "      <td>1.92</td>\n",
              "      <td>251.89</td>\n",
              "      <td>4213</td>\n",
              "    </tr>\n",
              "    <tr>\n",
              "      <th>H25</th>\n",
              "      <td>3.53</td>\n",
              "      <td>0.00</td>\n",
              "      <td>0.10</td>\n",
              "      <td>0.00</td>\n",
              "      <td>203527.76</td>\n",
              "      <td>51.53</td>\n",
              "      <td>5.00</td>\n",
              "      <td>25.19</td>\n",
              "      <td>1.82</td>\n",
              "      <td>312.15</td>\n",
              "      <td>62</td>\n",
              "    </tr>\n",
              "    <tr>\n",
              "      <th>H26</th>\n",
              "      <td>3.82</td>\n",
              "      <td>0.00</td>\n",
              "      <td>0.00</td>\n",
              "      <td>0.00</td>\n",
              "      <td>150605.51</td>\n",
              "      <td>40.62</td>\n",
              "      <td>4.99</td>\n",
              "      <td>32.70</td>\n",
              "      <td>1.92</td>\n",
              "      <td>182.52</td>\n",
              "      <td>80</td>\n",
              "    </tr>\n",
              "    <tr>\n",
              "      <th>H27</th>\n",
              "      <td>4.10</td>\n",
              "      <td>0.00</td>\n",
              "      <td>0.10</td>\n",
              "      <td>0.03</td>\n",
              "      <td>244974.77</td>\n",
              "      <td>37.17</td>\n",
              "      <td>5.20</td>\n",
              "      <td>36.54</td>\n",
              "      <td>2.00</td>\n",
              "      <td>161.82</td>\n",
              "      <td>145</td>\n",
              "    </tr>\n",
              "    <tr>\n",
              "      <th>H28</th>\n",
              "      <td>4.00</td>\n",
              "      <td>0.00</td>\n",
              "      <td>0.00</td>\n",
              "      <td>0.00</td>\n",
              "      <td>2246.00</td>\n",
              "      <td>27.00</td>\n",
              "      <td>5.00</td>\n",
              "      <td>42.50</td>\n",
              "      <td>2.00</td>\n",
              "      <td>112.30</td>\n",
              "      <td>2</td>\n",
              "    </tr>\n",
              "    <tr>\n",
              "      <th>H29</th>\n",
              "      <td>4.83</td>\n",
              "      <td>0.00</td>\n",
              "      <td>0.70</td>\n",
              "      <td>0.09</td>\n",
              "      <td>56033.93</td>\n",
              "      <td>38.91</td>\n",
              "      <td>6.13</td>\n",
              "      <td>37.43</td>\n",
              "      <td>2.13</td>\n",
              "      <td>185.17</td>\n",
              "      <td>23</td>\n",
              "    </tr>\n",
              "    <tr>\n",
              "      <th>H30</th>\n",
              "      <td>3.96</td>\n",
              "      <td>0.04</td>\n",
              "      <td>0.41</td>\n",
              "      <td>0.05</td>\n",
              "      <td>150963.52</td>\n",
              "      <td>38.99</td>\n",
              "      <td>5.80</td>\n",
              "      <td>44.73</td>\n",
              "      <td>1.97</td>\n",
              "      <td>115.09</td>\n",
              "      <td>114</td>\n",
              "    </tr>\n",
              "    <tr>\n",
              "      <th>H31</th>\n",
              "      <td>4.19</td>\n",
              "      <td>0.03</td>\n",
              "      <td>0.31</td>\n",
              "      <td>0.01</td>\n",
              "      <td>681438.40</td>\n",
              "      <td>40.46</td>\n",
              "      <td>5.20</td>\n",
              "      <td>33.02</td>\n",
              "      <td>2.00</td>\n",
              "      <td>137.03</td>\n",
              "      <td>459</td>\n",
              "    </tr>\n",
              "    <tr>\n",
              "      <th>H32</th>\n",
              "      <td>3.23</td>\n",
              "      <td>0.00</td>\n",
              "      <td>0.00</td>\n",
              "      <td>0.00</td>\n",
              "      <td>59638.11</td>\n",
              "      <td>40.56</td>\n",
              "      <td>4.45</td>\n",
              "      <td>17.14</td>\n",
              "      <td>1.68</td>\n",
              "      <td>352.63</td>\n",
              "      <td>22</td>\n",
              "    </tr>\n",
              "    <tr>\n",
              "      <th>H33</th>\n",
              "      <td>3.85</td>\n",
              "      <td>0.00</td>\n",
              "      <td>0.14</td>\n",
              "      <td>0.06</td>\n",
              "      <td>509559.36</td>\n",
              "      <td>35.18</td>\n",
              "      <td>6.01</td>\n",
              "      <td>33.20</td>\n",
              "      <td>1.95</td>\n",
              "      <td>144.31</td>\n",
              "      <td>302</td>\n",
              "    </tr>\n",
              "    <tr>\n",
              "      <th>H34</th>\n",
              "      <td>4.00</td>\n",
              "      <td>0.00</td>\n",
              "      <td>0.40</td>\n",
              "      <td>0.20</td>\n",
              "      <td>19896.76</td>\n",
              "      <td>36.20</td>\n",
              "      <td>7.10</td>\n",
              "      <td>121.70</td>\n",
              "      <td>2.00</td>\n",
              "      <td>141.35</td>\n",
              "      <td>10</td>\n",
              "    </tr>\n",
              "    <tr>\n",
              "      <th>H40</th>\n",
              "      <td>3.67</td>\n",
              "      <td>0.02</td>\n",
              "      <td>0.16</td>\n",
              "      <td>0.04</td>\n",
              "      <td>1382109.44</td>\n",
              "      <td>40.78</td>\n",
              "      <td>5.37</td>\n",
              "      <td>26.38</td>\n",
              "      <td>1.87</td>\n",
              "      <td>109.60</td>\n",
              "      <td>1221</td>\n",
              "    </tr>\n",
              "    <tr>\n",
              "      <th>H41</th>\n",
              "      <td>4.07</td>\n",
              "      <td>0.07</td>\n",
              "      <td>0.18</td>\n",
              "      <td>0.07</td>\n",
              "      <td>160316.58</td>\n",
              "      <td>44.92</td>\n",
              "      <td>6.67</td>\n",
              "      <td>33.11</td>\n",
              "      <td>1.98</td>\n",
              "      <td>189.07</td>\n",
              "      <td>61</td>\n",
              "    </tr>\n",
              "    <tr>\n",
              "      <th>H42</th>\n",
              "      <td>3.51</td>\n",
              "      <td>0.00</td>\n",
              "      <td>0.00</td>\n",
              "      <td>0.00</td>\n",
              "      <td>860831.70</td>\n",
              "      <td>39.62</td>\n",
              "      <td>5.71</td>\n",
              "      <td>15.44</td>\n",
              "      <td>1.83</td>\n",
              "      <td>127.91</td>\n",
              "      <td>609</td>\n",
              "    </tr>\n",
              "    <tr>\n",
              "      <th>H43</th>\n",
              "      <td>4.47</td>\n",
              "      <td>0.00</td>\n",
              "      <td>0.63</td>\n",
              "      <td>0.07</td>\n",
              "      <td>264787.67</td>\n",
              "      <td>35.21</td>\n",
              "      <td>5.79</td>\n",
              "      <td>23.72</td>\n",
              "      <td>2.07</td>\n",
              "      <td>153.60</td>\n",
              "      <td>137</td>\n",
              "    </tr>\n",
              "    <tr>\n",
              "      <th>H44</th>\n",
              "      <td>3.26</td>\n",
              "      <td>0.00</td>\n",
              "      <td>0.08</td>\n",
              "      <td>0.01</td>\n",
              "      <td>1010209.20</td>\n",
              "      <td>39.97</td>\n",
              "      <td>3.85</td>\n",
              "      <td>14.56</td>\n",
              "      <td>1.73</td>\n",
              "      <td>84.42</td>\n",
              "      <td>1691</td>\n",
              "    </tr>\n",
              "    <tr>\n",
              "      <th>H45</th>\n",
              "      <td>2.98</td>\n",
              "      <td>0.03</td>\n",
              "      <td>0.07</td>\n",
              "      <td>0.00</td>\n",
              "      <td>38506.69</td>\n",
              "      <td>45.50</td>\n",
              "      <td>6.48</td>\n",
              "      <td>20.68</td>\n",
              "      <td>1.65</td>\n",
              "      <td>56.67</td>\n",
              "      <td>60</td>\n",
              "    </tr>\n",
              "    <tr>\n",
              "      <th>H46</th>\n",
              "      <td>4.00</td>\n",
              "      <td>0.00</td>\n",
              "      <td>0.00</td>\n",
              "      <td>0.00</td>\n",
              "      <td>2214.38</td>\n",
              "      <td>50.00</td>\n",
              "      <td>7.00</td>\n",
              "      <td>37.00</td>\n",
              "      <td>2.00</td>\n",
              "      <td>158.17</td>\n",
              "      <td>1</td>\n",
              "    </tr>\n",
              "    <tr>\n",
              "      <th>H47</th>\n",
              "      <td>3.94</td>\n",
              "      <td>0.00</td>\n",
              "      <td>0.32</td>\n",
              "      <td>0.01</td>\n",
              "      <td>262144.01</td>\n",
              "      <td>38.46</td>\n",
              "      <td>6.01</td>\n",
              "      <td>17.81</td>\n",
              "      <td>1.96</td>\n",
              "      <td>156.69</td>\n",
              "      <td>139</td>\n",
              "    </tr>\n",
              "    <tr>\n",
              "      <th>H48</th>\n",
              "      <td>4.26</td>\n",
              "      <td>0.00</td>\n",
              "      <td>0.38</td>\n",
              "      <td>0.08</td>\n",
              "      <td>1202711.50</td>\n",
              "      <td>43.61</td>\n",
              "      <td>3.39</td>\n",
              "      <td>21.43</td>\n",
              "      <td>2.00</td>\n",
              "      <td>128.17</td>\n",
              "      <td>1271</td>\n",
              "    </tr>\n",
              "    <tr>\n",
              "      <th>H49</th>\n",
              "      <td>4.37</td>\n",
              "      <td>0.00</td>\n",
              "      <td>0.74</td>\n",
              "      <td>0.10</td>\n",
              "      <td>3507522.56</td>\n",
              "      <td>43.27</td>\n",
              "      <td>3.71</td>\n",
              "      <td>24.76</td>\n",
              "      <td>2.03</td>\n",
              "      <td>141.28</td>\n",
              "      <td>2968</td>\n",
              "    </tr>\n",
              "    <tr>\n",
              "      <th>H50</th>\n",
              "      <td>3.39</td>\n",
              "      <td>0.03</td>\n",
              "      <td>1.15</td>\n",
              "      <td>0.11</td>\n",
              "      <td>1525319.50</td>\n",
              "      <td>39.59</td>\n",
              "      <td>3.01</td>\n",
              "      <td>23.24</td>\n",
              "      <td>1.69</td>\n",
              "      <td>169.55</td>\n",
              "      <td>1683</td>\n",
              "    </tr>\n",
              "    <tr>\n",
              "      <th>H51</th>\n",
              "      <td>2.95</td>\n",
              "      <td>0.00</td>\n",
              "      <td>0.21</td>\n",
              "      <td>0.05</td>\n",
              "      <td>25295.09</td>\n",
              "      <td>47.76</td>\n",
              "      <td>3.84</td>\n",
              "      <td>34.71</td>\n",
              "      <td>1.63</td>\n",
              "      <td>100.36</td>\n",
              "      <td>38</td>\n",
              "    </tr>\n",
              "    <tr>\n",
              "      <th>H52</th>\n",
              "      <td>3.64</td>\n",
              "      <td>0.00</td>\n",
              "      <td>0.00</td>\n",
              "      <td>0.00</td>\n",
              "      <td>1147873.05</td>\n",
              "      <td>45.28</td>\n",
              "      <td>3.48</td>\n",
              "      <td>18.00</td>\n",
              "      <td>1.83</td>\n",
              "      <td>112.62</td>\n",
              "      <td>1490</td>\n",
              "    </tr>\n",
              "    <tr>\n",
              "      <th>H53</th>\n",
              "      <td>4.16</td>\n",
              "      <td>0.02</td>\n",
              "      <td>1.67</td>\n",
              "      <td>0.22</td>\n",
              "      <td>1784617.99</td>\n",
              "      <td>39.43</td>\n",
              "      <td>3.34</td>\n",
              "      <td>22.77</td>\n",
              "      <td>2.00</td>\n",
              "      <td>149.50</td>\n",
              "      <td>1738</td>\n",
              "    </tr>\n",
              "    <tr>\n",
              "      <th>H55</th>\n",
              "      <td>8.19</td>\n",
              "      <td>0.02</td>\n",
              "      <td>1.04</td>\n",
              "      <td>0.08</td>\n",
              "      <td>357855.41</td>\n",
              "      <td>36.75</td>\n",
              "      <td>5.05</td>\n",
              "      <td>33.91</td>\n",
              "      <td>2.65</td>\n",
              "      <td>136.64</td>\n",
              "      <td>181</td>\n",
              "    </tr>\n",
              "  </tbody>\n",
              "</table>\n",
              "</div>"
            ]
          },
          "metadata": {}
        },
        {
          "output_type": "stream",
          "name": "stderr",
          "text": [
            "/usr/local/lib/python3.7/dist-packages/plotnine/utils.py:1246: FutureWarning: is_categorical is deprecated and will be removed in a future version.  Use is_categorical_dtype instead\n",
            "  if pdtypes.is_categorical(arr):\n"
          ]
        },
        {
          "output_type": "display_data",
          "data": {
            "image/png": "[encoded data removed]",
            "text/plain": [
              "<Figure size 1152x432 with 1 Axes>"
            ]
          },
          "metadata": {
            "needs_background": "light"
          }
        },
        {
          "output_type": "display_data",
          "data": {
            "image/png": "[encoded data removed]",
            "text/plain": [
              "<Figure size 1152x432 with 1 Axes>"
            ]
          },
          "metadata": {
            "needs_background": "light"
          }
        },
        {
          "output_type": "display_data",
          "data": {
            "image/png": "[encoded data removed]",
            "text/plain": [
              "<Figure size 1600x800 with 1 Axes>"
            ]
          },
          "metadata": {}
        },
        {
          "output_type": "display_data",
          "data": {
            "text/plain": [
              "<ggplot: (8792936734693)>"
            ]
          },
          "metadata": {}
        },
        {
          "output_type": "display_data",
          "data": {
            "text/plain": [
              "<matplotlib.axes._subplots.AxesSubplot at 0x7ff4399691d0>"
            ]
          },
          "metadata": {}
        },
        {
          "output_type": "stream",
          "name": "stdout",
          "text": [
            "\n",
            "\n",
            "Distribucion por países de los canales de venta\n",
            "\n",
            "\n"
          ]
        },
        {
          "output_type": "display_data",
          "data": {
            "text/plain": [
              "<matplotlib.axes._subplots.AxesSubplot at 0x7ff42f816b50>"
            ]
          },
          "metadata": {}
        },
        {
          "output_type": "display_data",
          "data": {
            "text/plain": [
              "<matplotlib.axes._subplots.AxesSubplot at 0x7ff42f534890>"
            ]
          },
          "metadata": {}
        },
        {
          "output_type": "display_data",
          "data": {
            "text/plain": [
              "<matplotlib.axes._subplots.AxesSubplot at 0x7ff43dedb990>"
            ]
          },
          "metadata": {}
        },
        {
          "output_type": "display_data",
          "data": {
            "text/plain": [
              "<matplotlib.axes._subplots.AxesSubplot at 0x7ff42b0ca790>"
            ]
          },
          "metadata": {}
        },
        {
          "output_type": "display_data",
          "data": {
            "text/plain": [
              "<matplotlib.axes._subplots.AxesSubplot at 0x7ff42f8204d0>"
            ]
          },
          "metadata": {}
        },
        {
          "output_type": "display_data",
          "data": {
            "text/plain": [
              "<matplotlib.axes._subplots.AxesSubplot at 0x7ff429626f10>"
            ]
          },
          "metadata": {}
        },
        {
          "output_type": "display_data",
          "data": {
            "text/plain": [
              "<matplotlib.axes._subplots.AxesSubplot at 0x7ff441fc2850>"
            ]
          },
          "metadata": {}
        },
        {
          "output_type": "stream",
          "name": "stdout",
          "text": [
            "\n",
            "\n",
            "Tabla resumen por canal\n",
            "\n",
            "\n"
          ]
        },
        {
          "output_type": "display_data",
          "data": {
            "application/vnd.google.colaboratory.module+javascript": "\n      import \"https://ssl.gstatic.com/colaboratory/data_table/a6224c040fa35dcf/data_table.js\";\n\n      window.createDataTable({\n        data: [[\"AGENCY\",\n\"AUT\",\n{\n            'v': 189215.4,\n            'f': \"189215.4\",\n        },\n{\n            'v': 1525.9,\n            'f': \"1525.9\",\n        },\n{\n            'v': 127.1,\n            'f': \"127.1\",\n        },\n{\n            'v': 49.9,\n            'f': \"49.9\",\n        },\n{\n            'v': 5.8,\n            'f': \"5.8\",\n        },\n{\n            'v': 82.6,\n            'f': \"82.6\",\n        },\n{\n            'v': 124,\n            'f': \"124\",\n        }],\n [\"AGENCY\",\n\"BEL\",\n{\n            'v': 202437.8,\n            'f': \"202437.8\",\n        },\n{\n            'v': 2410.0,\n            'f': \"2410.0\",\n        },\n{\n            'v': 160.1,\n            'f': \"160.1\",\n        },\n{\n            'v': 45.2,\n            'f': \"45.2\",\n        },\n{\n            'v': 8.0,\n            'f': \"8.0\",\n        },\n{\n            'v': 38.4,\n            'f': \"38.4\",\n        },\n{\n            'v': 84,\n            'f': \"84\",\n        }],\n [\"AGENCY\",\n\"CHE\",\n{\n            'v': 346756.3,\n            'f': \"346756.3\",\n        },\n{\n            'v': 2391.4,\n            'f': \"2391.4\",\n        },\n{\n            'v': 179.6,\n            'f': \"179.6\",\n        },\n{\n            'v': 47.7,\n            'f': \"47.7\",\n        },\n{\n            'v': 6.7,\n            'f': \"6.7\",\n        },\n{\n            'v': 62.6,\n            'f': \"62.6\",\n        },\n{\n            'v': 145,\n            'f': \"145\",\n        }],\n [\"AGENCY\",\n\"DEU\",\n{\n            'v': 2445326.2,\n            'f': \"2445326.2\",\n        },\n{\n            'v': 1568.5,\n            'f': \"1568.5\",\n        },\n{\n            'v': 117.8,\n            'f': \"117.8\",\n        },\n{\n            'v': 44.2,\n            'f': \"44.2\",\n        },\n{\n            'v': 6.9,\n            'f': \"6.9\",\n        },\n{\n            'v': 68.8,\n            'f': \"68.8\",\n        },\n{\n            'v': 1559,\n            'f': \"1559\",\n        }],\n [\"AGENCY\",\n\"DNK\",\n{\n            'v': 212316.1,\n            'f': \"212316.1\",\n        },\n{\n            'v': 2081.5,\n            'f': \"2081.5\",\n        },\n{\n            'v': 154.5,\n            'f': \"154.5\",\n        },\n{\n            'v': 53.2,\n            'f': \"53.2\",\n        },\n{\n            'v': 6.2,\n            'f': \"6.2\",\n        },\n{\n            'v': 88.8,\n            'f': \"88.8\",\n        },\n{\n            'v': 102,\n            'f': \"102\",\n        }],\n [\"AGENCY\",\n\"ESP\",\n{\n            'v': 4947554.3,\n            'f': \"4947554.3\",\n        },\n{\n            'v': 1115.3,\n            'f': \"1115.3\",\n        },\n{\n            'v': 125.7,\n            'f': \"125.7\",\n        },\n{\n            'v': 46.1,\n            'f': \"46.1\",\n        },\n{\n            'v': 4.5,\n            'f': \"4.5\",\n        },\n{\n            'v': 41.6,\n            'f': \"41.6\",\n        },\n{\n            'v': 4436,\n            'f': \"4436\",\n        }],\n [\"AGENCY\",\n\"FRA\",\n{\n            'v': 769277.9,\n            'f': \"769277.9\",\n        },\n{\n            'v': 2338.2,\n            'f': \"2338.2\",\n        },\n{\n            'v': 178.0,\n            'f': \"178.0\",\n        },\n{\n            'v': 47.4,\n            'f': \"47.4\",\n        },\n{\n            'v': 6.5,\n            'f': \"6.5\",\n        },\n{\n            'v': 45.5,\n            'f': \"45.5\",\n        },\n{\n            'v': 329,\n            'f': \"329\",\n        }],\n [\"AGENCY\",\n\"GBR\",\n{\n            'v': 1277749.7,\n            'f': \"1277749.7\",\n        },\n{\n            'v': 1760.0,\n            'f': \"1760.0\",\n        },\n{\n            'v': 136.2,\n            'f': \"136.2\",\n        },\n{\n            'v': 43.2,\n            'f': \"43.2\",\n        },\n{\n            'v': 6.3,\n            'f': \"6.3\",\n        },\n{\n            'v': 80.6,\n            'f': \"80.6\",\n        },\n{\n            'v': 726,\n            'f': \"726\",\n        }],\n [\"AGENCY\",\n\"IRL\",\n{\n            'v': 87539.6,\n            'f': \"87539.6\",\n        },\n{\n            'v': 2035.8,\n            'f': \"2035.8\",\n        },\n{\n            'v': 136.9,\n            'f': \"136.9\",\n        },\n{\n            'v': 42.5,\n            'f': \"42.5\",\n        },\n{\n            'v': 6.7,\n            'f': \"6.7\",\n        },\n{\n            'v': 75.8,\n            'f': \"75.8\",\n        },\n{\n            'v': 43,\n            'f': \"43\",\n        }],\n [\"AGENCY\",\n\"ITA\",\n{\n            'v': 276461.4,\n            'f': \"276461.4\",\n        },\n{\n            'v': 1570.8,\n            'f': \"1570.8\",\n        },\n{\n            'v': 133.7,\n            'f': \"133.7\",\n        },\n{\n            'v': 38.7,\n            'f': \"38.7\",\n        },\n{\n            'v': 6.0,\n            'f': \"6.0\",\n        },\n{\n            'v': 47.6,\n            'f': \"47.6\",\n        },\n{\n            'v': 176,\n            'f': \"176\",\n        }],\n [\"AGENCY\",\n\"NLD\",\n{\n            'v': 415484.5,\n            'f': \"415484.5\",\n        },\n{\n            'v': 2026.8,\n            'f': \"2026.8\",\n        },\n{\n            'v': 145.2,\n            'f': \"145.2\",\n        },\n{\n            'v': 45.1,\n            'f': \"45.1\",\n        },\n{\n            'v': 7.3,\n            'f': \"7.3\",\n        },\n{\n            'v': 46.1,\n            'f': \"46.1\",\n        },\n{\n            'v': 205,\n            'f': \"205\",\n        }],\n [\"AGENCY\",\n\"NOR\",\n{\n            'v': 34997.5,\n            'f': \"34997.5\",\n        },\n{\n            'v': 744.6,\n            'f': \"744.6\",\n        },\n{\n            'v': 97.6,\n            'f': \"97.6\",\n        },\n{\n            'v': 51.5,\n            'f': \"51.5\",\n        },\n{\n            'v': 5.0,\n            'f': \"5.0\",\n        },\n{\n            'v': 103.0,\n            'f': \"103.0\",\n        },\n{\n            'v': 47,\n            'f': \"47\",\n        }],\n [\"AGENCY\",\n\"POL\",\n{\n            'v': 278185.5,\n            'f': \"278185.5\",\n        },\n{\n            'v': 3197.5,\n            'f': \"3197.5\",\n        },\n{\n            'v': 135.8,\n            'f': \"135.8\",\n        },\n{\n            'v': 38.3,\n            'f': \"38.3\",\n        },\n{\n            'v': 7.7,\n            'f': \"7.7\",\n        },\n{\n            'v': 82.0,\n            'f': \"82.0\",\n        },\n{\n            'v': 87,\n            'f': \"87\",\n        }],\n [\"AGENCY\",\n\"PRT\",\n{\n            'v': 298727.6,\n            'f': \"298727.6\",\n        },\n{\n            'v': 2164.7,\n            'f': \"2164.7\",\n        },\n{\n            'v': 144.1,\n            'f': \"144.1\",\n        },\n{\n            'v': 41.2,\n            'f': \"41.2\",\n        },\n{\n            'v': 6.6,\n            'f': \"6.6\",\n        },\n{\n            'v': 70.6,\n            'f': \"70.6\",\n        },\n{\n            'v': 138,\n            'f': \"138\",\n        }],\n [\"AGENCY\",\n\"SWE\",\n{\n            'v': 159317.9,\n            'f': \"159317.9\",\n        },\n{\n            'v': 1942.9,\n            'f': \"1942.9\",\n        },\n{\n            'v': 119.0,\n            'f': \"119.0\",\n        },\n{\n            'v': 27.8,\n            'f': \"27.8\",\n        },\n{\n            'v': 6.7,\n            'f': \"6.7\",\n        },\n{\n            'v': 90.1,\n            'f': \"90.1\",\n        },\n{\n            'v': 82,\n            'f': \"82\",\n        }],\n [\"COMPLEMENTARY\",\n\"BEL\",\n{\n            'v': 218.2,\n            'f': \"218.2\",\n        },\n{\n            'v': 218.2,\n            'f': \"218.2\",\n        },\n{\n            'v': 54.5,\n            'f': \"54.5\",\n        },\n{\n            'v': 46.0,\n            'f': \"46.0\",\n        },\n{\n            'v': 4.0,\n            'f': \"4.0\",\n        },\n{\n            'v': 14.0,\n            'f': \"14.0\",\n        },\n{\n            'v': 1,\n            'f': \"1\",\n        }],\n [\"COMPLEMENTARY\",\n\"DEU\",\n{\n            'v': 40786.5,\n            'f': \"40786.5\",\n        },\n{\n            'v': 4078.7,\n            'f': \"4078.7\",\n        },\n{\n            'v': 227.9,\n            'f': \"227.9\",\n        },\n{\n            'v': 53.2,\n            'f': \"53.2\",\n        },\n{\n            'v': 7.0,\n            'f': \"7.0\",\n        },\n{\n            'v': 69.0,\n            'f': \"69.0\",\n        },\n{\n            'v': 10,\n            'f': \"10\",\n        }],\n [\"COMPLEMENTARY\",\n\"DNK\",\n{\n            'v': 5709.2,\n            'f': \"5709.2\",\n        },\n{\n            'v': 1427.3,\n            'f': \"1427.3\",\n        },\n{\n            'v': 123.5,\n            'f': \"123.5\",\n        },\n{\n            'v': 55.0,\n            'f': \"55.0\",\n        },\n{\n            'v': 6.5,\n            'f': \"6.5\",\n        },\n{\n            'v': 7.2,\n            'f': \"7.2\",\n        },\n{\n            'v': 4,\n            'f': \"4\",\n        }],\n [\"COMPLEMENTARY\",\n\"ESP\",\n{\n            'v': 105601.4,\n            'f': \"105601.4\",\n        },\n{\n            'v': 723.3,\n            'f': \"723.3\",\n        },\n{\n            'v': 134.2,\n            'f': \"134.2\",\n        },\n{\n            'v': 41.9,\n            'f': \"41.9\",\n        },\n{\n            'v': 4.8,\n            'f': \"4.8\",\n        },\n{\n            'v': 11.5,\n            'f': \"11.5\",\n        },\n{\n            'v': 146,\n            'f': \"146\",\n        }],\n [\"COMPLEMENTARY\",\n\"FRA\",\n{\n            'v': 14628.6,\n            'f': \"14628.6\",\n        },\n{\n            'v': 541.8,\n            'f': \"541.8\",\n        },\n{\n            'v': 82.4,\n            'f': \"82.4\",\n        },\n{\n            'v': 41.0,\n            'f': \"41.0\",\n        },\n{\n            'v': 4.2,\n            'f': \"4.2\",\n        },\n{\n            'v': 38.1,\n            'f': \"38.1\",\n        },\n{\n            'v': 27,\n            'f': \"27\",\n        }],\n [\"COMPLEMENTARY\",\n\"GBR\",\n{\n            'v': 29775.6,\n            'f': \"29775.6\",\n        },\n{\n            'v': 902.3,\n            'f': \"902.3\",\n        },\n{\n            'v': 146.4,\n            'f': \"146.4\",\n        },\n{\n            'v': 43.6,\n            'f': \"43.6\",\n        },\n{\n            'v': 3.1,\n            'f': \"3.1\",\n        },\n{\n            'v': 43.6,\n            'f': \"43.6\",\n        },\n{\n            'v': 33,\n            'f': \"33\",\n        }],\n [\"COMPLEMENTARY\",\n\"ITA\",\n{\n            'v': 681.7,\n            'f': \"681.7\",\n        },\n{\n            'v': 170.4,\n            'f': \"170.4\",\n        },\n{\n            'v': 54.5,\n            'f': \"54.5\",\n        },\n{\n            'v': 42.8,\n            'f': \"42.8\",\n        },\n{\n            'v': 3.2,\n            'f': \"3.2\",\n        },\n{\n            'v': 3.0,\n            'f': \"3.0\",\n        },\n{\n            'v': 4,\n            'f': \"4\",\n        }],\n [\"COMPLEMENTARY\",\n\"POL\",\n{\n            'v': 856.5,\n            'f': \"856.5\",\n        },\n{\n            'v': 856.5,\n            'f': \"856.5\",\n        },\n{\n            'v': 61.2,\n            'f': \"61.2\",\n        },\n{\n            'v': 37.0,\n            'f': \"37.0\",\n        },\n{\n            'v': 7.0,\n            'f': \"7.0\",\n        },\n{\n            'v': 40.0,\n            'f': \"40.0\",\n        },\n{\n            'v': 1,\n            'f': \"1\",\n        }],\n [\"COMPLEMENTARY\",\n\"PRT\",\n{\n            'v': 244.0,\n            'f': \"244.0\",\n        },\n{\n            'v': 244.0,\n            'f': \"244.0\",\n        },\n{\n            'v': 61.0,\n            'f': \"61.0\",\n        },\n{\n            'v': 43.0,\n            'f': \"43.0\",\n        },\n{\n            'v': 4.0,\n            'f': \"4.0\",\n        },\n{\n            'v': 4.0,\n            'f': \"4.0\",\n        },\n{\n            'v': 1,\n            'f': \"1\",\n        }],\n [\"DESVIOS\",\n\"ESP\",\n{\n            'v': 2119.5,\n            'f': \"2119.5\",\n        },\n{\n            'v': 706.5,\n            'f': \"706.5\",\n        },\n{\n            'v': 126.9,\n            'f': \"126.9\",\n        },\n{\n            'v': 41.3,\n            'f': \"41.3\",\n        },\n{\n            'v': 1.7,\n            'f': \"1.7\",\n        },\n{\n            'v': 0.7,\n            'f': \"0.7\",\n        },\n{\n            'v': 3,\n            'f': \"3\",\n        }],\n [\"DIRECT\",\n\"AUT\",\n{\n            'v': 382229.1,\n            'f': \"382229.1\",\n        },\n{\n            'v': 1811.5,\n            'f': \"1811.5\",\n        },\n{\n            'v': 144.5,\n            'f': \"144.5\",\n        },\n{\n            'v': 46.4,\n            'f': \"46.4\",\n        },\n{\n            'v': 8.4,\n            'f': \"8.4\",\n        },\n{\n            'v': 45.3,\n            'f': \"45.3\",\n        },\n{\n            'v': 211,\n            'f': \"211\",\n        }],\n [\"DIRECT\",\n\"BEL\",\n{\n            'v': 1689923.3,\n            'f': \"1689923.3\",\n        },\n{\n            'v': 2327.7,\n            'f': \"2327.7\",\n        },\n{\n            'v': 178.0,\n            'f': \"178.0\",\n        },\n{\n            'v': 44.7,\n            'f': \"44.7\",\n        },\n{\n            'v': 6.5,\n            'f': \"6.5\",\n        },\n{\n            'v': 39.9,\n            'f': \"39.9\",\n        },\n{\n            'v': 726,\n            'f': \"726\",\n        }],\n [\"DIRECT\",\n\"CHE\",\n{\n            'v': 1108432.4,\n            'f': \"1108432.4\",\n        },\n{\n            'v': 2304.4,\n            'f': \"2304.4\",\n        },\n{\n            'v': 194.3,\n            'f': \"194.3\",\n        },\n{\n            'v': 44.0,\n            'f': \"44.0\",\n        },\n{\n            'v': 6.0,\n            'f': \"6.0\",\n        },\n{\n            'v': 60.1,\n            'f': \"60.1\",\n        },\n{\n            'v': 481,\n            'f': \"481\",\n        }],\n [\"DIRECT\",\n\"DEU\",\n{\n            'v': 3104476.4,\n            'f': \"3104476.4\",\n        },\n{\n            'v': 1496.1,\n            'f': \"1496.1\",\n        },\n{\n            'v': 146.0,\n            'f': \"146.0\",\n        },\n{\n            'v': 46.1,\n            'f': \"46.1\",\n        },\n{\n            'v': 5.8,\n            'f': \"5.8\",\n        },\n{\n            'v': 42.4,\n            'f': \"42.4\",\n        },\n{\n            'v': 2075,\n            'f': \"2075\",\n        }],\n [\"DIRECT\",\n\"DNK\",\n{\n            'v': 521683.9,\n            'f': \"521683.9\",\n        },\n{\n            'v': 2789.8,\n            'f': \"2789.8\",\n        },\n{\n            'v': 197.6,\n            'f': \"197.6\",\n        },\n{\n            'v': 46.0,\n            'f': \"46.0\",\n        },\n{\n            'v': 6.5,\n            'f': \"6.5\",\n        },\n{\n            'v': 89.7,\n            'f': \"89.7\",\n        },\n{\n            'v': 187,\n            'f': \"187\",\n        }],\n [\"DIRECT\",\n\"ESP\",\n{\n            'v': 10437997.8,\n            'f': \"10437997.8\",\n        },\n{\n            'v': 1123.5,\n            'f': \"1123.5\",\n        },\n{\n            'v': 144.3,\n            'f': \"144.3\",\n        },\n{\n            'v': 43.6,\n            'f': \"43.6\",\n        },\n{\n            'v': 3.6,\n            'f': \"3.6\",\n        },\n{\n            'v': 27.2,\n            'f': \"27.2\",\n        },\n{\n            'v': 9291,\n            'f': \"9291\",\n        }],\n [\"DIRECT\",\n\"FRA\",\n{\n            'v': 2856938.3,\n            'f': \"2856938.3\",\n        },\n{\n            'v': 2079.3,\n            'f': \"2079.3\",\n        },\n{\n            'v': 179.8,\n            'f': \"179.8\",\n        },\n{\n            'v': 41.1,\n            'f': \"41.1\",\n        },\n{\n            'v': 5.3,\n            'f': \"5.3\",\n        },\n{\n            'v': 35.8,\n            'f': \"35.8\",\n        },\n{\n            'v': 1374,\n            'f': \"1374\",\n        }],\n [\"DIRECT\",\n\"GBR\",\n{\n            'v': 12167404.3,\n            'f': \"12167404.3\",\n        },\n{\n            'v': 2215.1,\n            'f': \"2215.1\",\n        },\n{\n            'v': 176.2,\n            'f': \"176.2\",\n        },\n{\n            'v': 45.3,\n            'f': \"45.3\",\n        },\n{\n            'v': 5.8,\n            'f': \"5.8\",\n        },\n{\n            'v': 95.6,\n            'f': \"95.6\",\n        },\n{\n            'v': 5493,\n            'f': \"5493\",\n        }],\n [\"DIRECT\",\n\"IRL\",\n{\n            'v': 1574572.0,\n            'f': \"1574572.0\",\n        },\n{\n            'v': 2594.0,\n            'f': \"2594.0\",\n        },\n{\n            'v': 180.7,\n            'f': \"180.7\",\n        },\n{\n            'v': 44.8,\n            'f': \"44.8\",\n        },\n{\n            'v': 6.8,\n            'f': \"6.8\",\n        },\n{\n            'v': 87.0,\n            'f': \"87.0\",\n        },\n{\n            'v': 607,\n            'f': \"607\",\n        }],\n [\"DIRECT\",\n\"ITA\",\n{\n            'v': 1457200.5,\n            'f': \"1457200.5\",\n        },\n{\n            'v': 2124.2,\n            'f': \"2124.2\",\n        },\n{\n            'v': 174.3,\n            'f': \"174.3\",\n        },\n{\n            'v': 36.9,\n            'f': \"36.9\",\n        },\n{\n            'v': 6.1,\n            'f': \"6.1\",\n        },\n{\n            'v': 45.6,\n            'f': \"45.6\",\n        },\n{\n            'v': 686,\n            'f': \"686\",\n        }],\n [\"DIRECT\",\n\"NLD\",\n{\n            'v': 1059328.3,\n            'f': \"1059328.3\",\n        },\n{\n            'v': 1848.7,\n            'f': \"1848.7\",\n        },\n{\n            'v': 163.2,\n            'f': \"163.2\",\n        },\n{\n            'v': 40.7,\n            'f': \"40.7\",\n        },\n{\n            'v': 5.7,\n            'f': \"5.7\",\n        },\n{\n            'v': 51.9,\n            'f': \"51.9\",\n        },\n{\n            'v': 573,\n            'f': \"573\",\n        }],\n [\"DIRECT\",\n\"NOR\",\n{\n            'v': 234660.5,\n            'f': \"234660.5\",\n        },\n{\n            'v': 1805.1,\n            'f': \"1805.1\",\n        },\n{\n            'v': 155.5,\n            'f': \"155.5\",\n        },\n{\n            'v': 50.6,\n            'f': \"50.6\",\n        },\n{\n            'v': 6.2,\n            'f': \"6.2\",\n        },\n{\n            'v': 119.2,\n            'f': \"119.2\",\n        },\n{\n            'v': 130,\n            'f': \"130\",\n        }],\n [\"DIRECT\",\n\"POL\",\n{\n            'v': 525245.5,\n            'f': \"525245.5\",\n        },\n{\n            'v': 2059.8,\n            'f': \"2059.8\",\n        },\n{\n            'v': 176.7,\n            'f': \"176.7\",\n        },\n{\n            'v': 39.0,\n            'f': \"39.0\",\n        },\n{\n            'v': 5.4,\n            'f': \"5.4\",\n        },\n{\n            'v': 32.2,\n            'f': \"32.2\",\n        },\n{\n            'v': 255,\n            'f': \"255\",\n        }],\n [\"DIRECT\",\n\"PRT\",\n{\n            'v': 401286.3,\n            'f': \"401286.3\",\n        },\n{\n            'v': 2112.0,\n            'f': \"2112.0\",\n        },\n{\n            'v': 168.3,\n            'f': \"168.3\",\n        },\n{\n            'v': 40.8,\n            'f': \"40.8\",\n        },\n{\n            'v': 5.6,\n            'f': \"5.6\",\n        },\n{\n            'v': 56.2,\n            'f': \"56.2\",\n        },\n{\n            'v': 190,\n            'f': \"190\",\n        }],\n [\"DIRECT\",\n\"SWE\",\n{\n            'v': 412333.2,\n            'f': \"412333.2\",\n        },\n{\n            'v': 2483.9,\n            'f': \"2483.9\",\n        },\n{\n            'v': 192.4,\n            'f': \"192.4\",\n        },\n{\n            'v': 43.3,\n            'f': \"43.3\",\n        },\n{\n            'v': 5.9,\n            'f': \"5.9\",\n        },\n{\n            'v': 69.6,\n            'f': \"69.6\",\n        },\n{\n            'v': 166,\n            'f': \"166\",\n        }],\n [\"ONLINE\",\n\"AUT\",\n{\n            'v': 286984.9,\n            'f': \"286984.9\",\n        },\n{\n            'v': 1913.2,\n            'f': \"1913.2\",\n        },\n{\n            'v': 145.1,\n            'f': \"145.1\",\n        },\n{\n            'v': 40.1,\n            'f': \"40.1\",\n        },\n{\n            'v': 6.2,\n            'f': \"6.2\",\n        },\n{\n            'v': 64.1,\n            'f': \"64.1\",\n        },\n{\n            'v': 150,\n            'f': \"150\",\n        }],\n [\"ONLINE\",\n\"BEL\",\n{\n            'v': 513017.4,\n            'f': \"513017.4\",\n        },\n{\n            'v': 1781.3,\n            'f': \"1781.3\",\n        },\n{\n            'v': 149.2,\n            'f': \"149.2\",\n        },\n{\n            'v': 43.1,\n            'f': \"43.1\",\n        },\n{\n            'v': 6.0,\n            'f': \"6.0\",\n        },\n{\n            'v': 37.8,\n            'f': \"37.8\",\n        },\n{\n            'v': 288,\n            'f': \"288\",\n        }],\n [\"ONLINE\",\n\"CHE\",\n{\n            'v': 830480.0,\n            'f': \"830480.0\",\n        },\n{\n            'v': 1954.1,\n            'f': \"1954.1\",\n        },\n{\n            'v': 142.9,\n            'f': \"142.9\",\n        },\n{\n            'v': 44.8,\n            'f': \"44.8\",\n        },\n{\n            'v': 6.8,\n            'f': \"6.8\",\n        },\n{\n            'v': 57.4,\n            'f': \"57.4\",\n        },\n{\n            'v': 425,\n            'f': \"425\",\n        }],\n [\"ONLINE\",\n\"DEU\",\n{\n            'v': 4592571.4,\n            'f': \"4592571.4\",\n        },\n{\n            'v': 1338.9,\n            'f': \"1338.9\",\n        },\n{\n            'v': 106.4,\n            'f': \"106.4\",\n        },\n{\n            'v': 45.3,\n            'f': \"45.3\",\n        },\n{\n            'v': 6.5,\n            'f': \"6.5\",\n        },\n{\n            'v': 63.6,\n            'f': \"63.6\",\n        },\n{\n            'v': 3430,\n            'f': \"3430\",\n        }],\n [\"ONLINE\",\n\"DNK\",\n{\n            'v': 350627.3,\n            'f': \"350627.3\",\n        },\n{\n            'v': 2138.0,\n            'f': \"2138.0\",\n        },\n{\n            'v': 138.2,\n            'f': \"138.2\",\n        },\n{\n            'v': 42.4,\n            'f': \"42.4\",\n        },\n{\n            'v': 7.0,\n            'f': \"7.0\",\n        },\n{\n            'v': 73.4,\n            'f': \"73.4\",\n        },\n{\n            'v': 164,\n            'f': \"164\",\n        }],\n [\"ONLINE\",\n\"ESP\",\n{\n            'v': 6683280.4,\n            'f': \"6683280.4\",\n        },\n{\n            'v': 1115.0,\n            'f': \"1115.0\",\n        },\n{\n            'v': 119.8,\n            'f': \"119.8\",\n        },\n{\n            'v': 42.8,\n            'f': \"42.8\",\n        },\n{\n            'v': 4.1,\n            'f': \"4.1\",\n        },\n{\n            'v': 35.1,\n            'f': \"35.1\",\n        },\n{\n            'v': 5994,\n            'f': \"5994\",\n        }],\n [\"ONLINE\",\n\"FRA\",\n{\n            'v': 2007026.6,\n            'f': \"2007026.6\",\n        },\n{\n            'v': 1865.3,\n            'f': \"1865.3\",\n        },\n{\n            'v': 142.1,\n            'f': \"142.1\",\n        },\n{\n            'v': 38.5,\n            'f': \"38.5\",\n        },\n{\n            'v': 6.0,\n            'f': \"6.0\",\n        },\n{\n            'v': 40.2,\n            'f': \"40.2\",\n        },\n{\n            'v': 1076,\n            'f': \"1076\",\n        }],\n [\"ONLINE\",\n\"GBR\",\n{\n            'v': 32242525.0,\n            'f': \"32242525.0\",\n        },\n{\n            'v': 1886.9,\n            'f': \"1886.9\",\n        },\n{\n            'v': 137.4,\n            'f': \"137.4\",\n        },\n{\n            'v': 41.7,\n            'f': \"41.7\",\n        },\n{\n            'v': 6.1,\n            'f': \"6.1\",\n        },\n{\n            'v': 95.9,\n            'f': \"95.9\",\n        },\n{\n            'v': 17088,\n            'f': \"17088\",\n        }],\n [\"ONLINE\",\n\"IRL\",\n{\n            'v': 1456062.6,\n            'f': \"1456062.6\",\n        },\n{\n            'v': 2042.2,\n            'f': \"2042.2\",\n        },\n{\n            'v': 138.3,\n            'f': \"138.3\",\n        },\n{\n            'v': 43.7,\n            'f': \"43.7\",\n        },\n{\n            'v': 6.7,\n            'f': \"6.7\",\n        },\n{\n            'v': 83.5,\n            'f': \"83.5\",\n        },\n{\n            'v': 713,\n            'f': \"713\",\n        }],\n [\"ONLINE\",\n\"ITA\",\n{\n            'v': 1345617.3,\n            'f': \"1345617.3\",\n        },\n{\n            'v': 2070.2,\n            'f': \"2070.2\",\n        },\n{\n            'v': 145.7,\n            'f': \"145.7\",\n        },\n{\n            'v': 38.4,\n            'f': \"38.4\",\n        },\n{\n            'v': 6.3,\n            'f': \"6.3\",\n        },\n{\n            'v': 55.6,\n            'f': \"55.6\",\n        },\n{\n            'v': 650,\n            'f': \"650\",\n        }],\n [\"ONLINE\",\n\"NLD\",\n{\n            'v': 1253606.5,\n            'f': \"1253606.5\",\n        },\n{\n            'v': 1647.3,\n            'f': \"1647.3\",\n        },\n{\n            'v': 129.7,\n            'f': \"129.7\",\n        },\n{\n            'v': 41.2,\n            'f': \"41.2\",\n        },\n{\n            'v': 6.2,\n            'f': \"6.2\",\n        },\n{\n            'v': 53.0,\n            'f': \"53.0\",\n        },\n{\n            'v': 761,\n            'f': \"761\",\n        }],\n [\"ONLINE\",\n\"NOR\",\n{\n            'v': 262172.3,\n            'f': \"262172.3\",\n        },\n{\n            'v': 1886.1,\n            'f': \"1886.1\",\n        },\n{\n            'v': 120.3,\n            'f': \"120.3\",\n        },\n{\n            'v': 46.5,\n            'f': \"46.5\",\n        },\n{\n            'v': 7.6,\n            'f': \"7.6\",\n        },\n{\n            'v': 80.4,\n            'f': \"80.4\",\n        },\n{\n            'v': 139,\n            'f': \"139\",\n        }],\n [\"ONLINE\",\n\"POL\",\n{\n            'v': 381271.0,\n            'f': \"381271.0\",\n        },\n{\n            'v': 1428.0,\n            'f': \"1428.0\",\n        },\n{\n            'v': 106.5,\n            'f': \"106.5\",\n        },\n{\n            'v': 36.2,\n            'f': \"36.2\",\n        },\n{\n            'v': 6.3,\n            'f': \"6.3\",\n        },\n{\n            'v': 59.5,\n            'f': \"59.5\",\n        },\n{\n            'v': 267,\n            'f': \"267\",\n        }],\n [\"ONLINE\",\n\"PRT\",\n{\n            'v': 1007097.9,\n            'f': \"1007097.9\",\n        },\n{\n            'v': 2263.1,\n            'f': \"2263.1\",\n        },\n{\n            'v': 153.9,\n            'f': \"153.9\",\n        },\n{\n            'v': 39.9,\n            'f': \"39.9\",\n        },\n{\n            'v': 6.4,\n            'f': \"6.4\",\n        },\n{\n            'v': 68.1,\n            'f': \"68.1\",\n        },\n{\n            'v': 445,\n            'f': \"445\",\n        }],\n [\"ONLINE\",\n\"SWE\",\n{\n            'v': 326470.2,\n            'f': \"326470.2\",\n        },\n{\n            'v': 1640.6,\n            'f': \"1640.6\",\n        },\n{\n            'v': 124.0,\n            'f': \"124.0\",\n        },\n{\n            'v': 42.2,\n            'f': \"42.2\",\n        },\n{\n            'v': 6.3,\n            'f': \"6.3\",\n        },\n{\n            'v': 50.7,\n            'f': \"50.7\",\n        },\n{\n            'v': 199,\n            'f': \"199\",\n        }],\n [\"OTAS\",\n\"AUT\",\n{\n            'v': 430953.7,\n            'f': \"430953.7\",\n        },\n{\n            'v': 1355.2,\n            'f': \"1355.2\",\n        },\n{\n            'v': 146.2,\n            'f': \"146.2\",\n        },\n{\n            'v': 38.1,\n            'f': \"38.1\",\n        },\n{\n            'v': 4.6,\n            'f': \"4.6\",\n        },\n{\n            'v': 45.7,\n            'f': \"45.7\",\n        },\n{\n            'v': 318,\n            'f': \"318\",\n        }],\n [\"OTAS\",\n\"BEL\",\n{\n            'v': 1299619.0,\n            'f': \"1299619.0\",\n        },\n{\n            'v': 1800.0,\n            'f': \"1800.0\",\n        },\n{\n            'v': 175.8,\n            'f': \"175.8\",\n        },\n{\n            'v': 39.7,\n            'f': \"39.7\",\n        },\n{\n            'v': 5.0,\n            'f': \"5.0\",\n        },\n{\n            'v': 39.0,\n            'f': \"39.0\",\n        },\n{\n            'v': 722,\n            'f': \"722\",\n        }],\n [\"OTAS\",\n\"CHE\",\n{\n            'v': 1216296.8,\n            'f': \"1216296.8\",\n        },\n{\n            'v': 1684.6,\n            'f': \"1684.6\",\n        },\n{\n            'v': 162.9,\n            'f': \"162.9\",\n        },\n{\n            'v': 39.8,\n            'f': \"39.8\",\n        },\n{\n            'v': 5.2,\n            'f': \"5.2\",\n        },\n{\n            'v': 43.4,\n            'f': \"43.4\",\n        },\n{\n            'v': 722,\n            'f': \"722\",\n        }],\n [\"OTAS\",\n\"DEU\",\n{\n            'v': 4050758.3,\n            'f': \"4050758.3\",\n        },\n{\n            'v': 1020.3,\n            'f': \"1020.3\",\n        },\n{\n            'v': 119.4,\n            'f': \"119.4\",\n        },\n{\n            'v': 42.6,\n            'f': \"42.6\",\n        },\n{\n            'v': 4.4,\n            'f': \"4.4\",\n        },\n{\n            'v': 45.3,\n            'f': \"45.3\",\n        },\n{\n            'v': 3970,\n            'f': \"3970\",\n        }],\n [\"OTAS\",\n\"DNK\",\n{\n            'v': 569344.3,\n            'f': \"569344.3\",\n        },\n{\n            'v': 1650.3,\n            'f': \"1650.3\",\n        },\n{\n            'v': 138.3,\n            'f': \"138.3\",\n        },\n{\n            'v': 44.5,\n            'f': \"44.5\",\n        },\n{\n            'v': 5.5,\n            'f': \"5.5\",\n        },\n{\n            'v': 59.6,\n            'f': \"59.6\",\n        },\n{\n            'v': 345,\n            'f': \"345\",\n        }],\n [\"OTAS\",\n\"ESP\",\n{\n            'v': 8879098.2,\n            'f': \"8879098.2\",\n        },\n{\n            'v': 880.8,\n            'f': \"880.8\",\n        },\n{\n            'v': 125.5,\n            'f': \"125.5\",\n        },\n{\n            'v': 40.7,\n            'f': \"40.7\",\n        },\n{\n            'v': 3.3,\n            'f': \"3.3\",\n        },\n{\n            'v': 27.9,\n            'f': \"27.9\",\n        },\n{\n            'v': 10081,\n            'f': \"10081\",\n        }],\n [\"OTAS\",\n\"FRA\",\n{\n            'v': 3454379.2,\n            'f': \"3454379.2\",\n        },\n{\n            'v': 1595.6,\n            'f': \"1595.6\",\n        },\n{\n            'v': 150.7,\n            'f': \"150.7\",\n        },\n{\n            'v': 35.3,\n            'f': \"35.3\",\n        },\n{\n            'v': 5.0,\n            'f': \"5.0\",\n        },\n{\n            'v': 40.6,\n            'f': \"40.6\",\n        },\n{\n            'v': 2165,\n            'f': \"2165\",\n        }],\n [\"OTAS\",\n\"GBR\",\n{\n            'v': 6970560.6,\n            'f': \"6970560.6\",\n        },\n{\n            'v': 1459.8,\n            'f': \"1459.8\",\n        },\n{\n            'v': 151.5,\n            'f': \"151.5\",\n        },\n{\n            'v': 40.2,\n            'f': \"40.2\",\n        },\n{\n            'v': 4.7,\n            'f': \"4.7\",\n        },\n{\n            'v': 64.2,\n            'f': \"64.2\",\n        },\n{\n            'v': 4775,\n            'f': \"4775\",\n        }],\n [\"OTAS\",\n\"IRL\",\n{\n            'v': 646925.7,\n            'f': \"646925.7\",\n        },\n{\n            'v': 1706.9,\n            'f': \"1706.9\",\n        },\n{\n            'v': 147.7,\n            'f': \"147.7\",\n        },\n{\n            'v': 40.4,\n            'f': \"40.4\",\n        },\n{\n            'v': 5.6,\n            'f': \"5.6\",\n        },\n{\n            'v': 60.3,\n            'f': \"60.3\",\n        },\n{\n            'v': 379,\n            'f': \"379\",\n        }],\n [\"OTAS\",\n\"ITA\",\n{\n            'v': 2340981.0,\n            'f': \"2340981.0\",\n        },\n{\n            'v': 1761.5,\n            'f': \"1761.5\",\n        },\n{\n            'v': 144.6,\n            'f': \"144.6\",\n        },\n{\n            'v': 39.3,\n            'f': \"39.3\",\n        },\n{\n            'v': 5.8,\n            'f': \"5.8\",\n        },\n{\n            'v': 53.0,\n            'f': \"53.0\",\n        },\n{\n            'v': 1329,\n            'f': \"1329\",\n        }],\n [\"OTAS\",\n\"NLD\",\n{\n            'v': 1576278.8,\n            'f': \"1576278.8\",\n        },\n{\n            'v': 1603.5,\n            'f': \"1603.5\",\n        },\n{\n            'v': 149.2,\n            'f': \"149.2\",\n        },\n{\n            'v': 40.2,\n            'f': \"40.2\",\n        },\n{\n            'v': 5.2,\n            'f': \"5.2\",\n        },\n{\n            'v': 51.0,\n            'f': \"51.0\",\n        },\n{\n            'v': 983,\n            'f': \"983\",\n        }],\n [\"OTAS\",\n\"NOR\",\n{\n            'v': 483140.7,\n            'f': \"483140.7\",\n        },\n{\n            'v': 1763.3,\n            'f': \"1763.3\",\n        },\n{\n            'v': 137.9,\n            'f': \"137.9\",\n        },\n{\n            'v': 46.4,\n            'f': \"46.4\",\n        },\n{\n            'v': 6.4,\n            'f': \"6.4\",\n        },\n{\n            'v': 86.8,\n            'f': \"86.8\",\n        },\n{\n            'v': 274,\n            'f': \"274\",\n        }],\n [\"OTAS\",\n\"POL\",\n{\n            'v': 562829.2,\n            'f': \"562829.2\",\n        },\n{\n            'v': 1446.9,\n            'f': \"1446.9\",\n        },\n{\n            'v': 133.9,\n            'f': \"133.9\",\n        },\n{\n            'v': 38.4,\n            'f': \"38.4\",\n        },\n{\n            'v': 5.1,\n            'f': \"5.1\",\n        },\n{\n            'v': 39.7,\n            'f': \"39.7\",\n        },\n{\n            'v': 389,\n            'f': \"389\",\n        }],\n [\"OTAS\",\n\"PRT\",\n{\n            'v': 455938.8,\n            'f': \"455938.8\",\n        },\n{\n            'v': 1616.8,\n            'f': \"1616.8\",\n        },\n{\n            'v': 150.8,\n            'f': \"150.8\",\n        },\n{\n            'v': 39.5,\n            'f': \"39.5\",\n        },\n{\n            'v': 4.8,\n            'f': \"4.8\",\n        },\n{\n            'v': 50.4,\n            'f': \"50.4\",\n        },\n{\n            'v': 282,\n            'f': \"282\",\n        }],\n [\"OTAS\",\n\"SWE\",\n{\n            'v': 809705.2,\n            'f': \"809705.2\",\n        },\n{\n            'v': 1381.7,\n            'f': \"1381.7\",\n        },\n{\n            'v': 136.6,\n            'f': \"136.6\",\n        },\n{\n            'v': 44.4,\n            'f': \"44.4\",\n        },\n{\n            'v': 4.9,\n            'f': \"4.9\",\n        },\n{\n            'v': 59.7,\n            'f': \"59.7\",\n        },\n{\n            'v': 586,\n            'f': \"586\",\n        }],\n [\"TTOO\",\n\"AUT\",\n{\n            'v': 2133378.2,\n            'f': \"2133378.2\",\n        },\n{\n            'v': 2163.7,\n            'f': \"2163.7\",\n        },\n{\n            'v': 147.4,\n            'f': \"147.4\",\n        },\n{\n            'v': 41.8,\n            'f': \"41.8\",\n        },\n{\n            'v': 7.4,\n            'f': \"7.4\",\n        },\n{\n            'v': 81.7,\n            'f': \"81.7\",\n        },\n{\n            'v': 986,\n            'f': \"986\",\n        }],\n [\"TTOO\",\n\"BEL\",\n{\n            'v': 6179087.3,\n            'f': \"6179087.3\",\n        },\n{\n            'v': 2306.5,\n            'f': \"2306.5\",\n        },\n{\n            'v': 156.3,\n            'f': \"156.3\",\n        },\n{\n            'v': 46.5,\n            'f': \"46.5\",\n        },\n{\n            'v': 7.4,\n            'f': \"7.4\",\n        },\n{\n            'v': 77.4,\n            'f': \"77.4\",\n        },\n{\n            'v': 2679,\n            'f': \"2679\",\n        }],\n [\"TTOO\",\n\"CHE\",\n{\n            'v': 1807496.9,\n            'f': \"1807496.9\",\n        },\n{\n            'v': 2239.8,\n            'f': \"2239.8\",\n        },\n{\n            'v': 153.6,\n            'f': \"153.6\",\n        },\n{\n            'v': 43.7,\n            'f': \"43.7\",\n        },\n{\n            'v': 7.5,\n            'f': \"7.5\",\n        },\n{\n            'v': 64.5,\n            'f': \"64.5\",\n        },\n{\n            'v': 807,\n            'f': \"807\",\n        }],\n [\"TTOO\",\n\"DEU\",\n{\n            'v': 41347168.5,\n            'f': \"41347168.5\",\n        },\n{\n            'v': 1706.7,\n            'f': \"1706.7\",\n        },\n{\n            'v': 108.2,\n            'f': \"108.2\",\n        },\n{\n            'v': 49.5,\n            'f': \"49.5\",\n        },\n{\n            'v': 8.9,\n            'f': \"8.9\",\n        },\n{\n            'v': 104.2,\n            'f': \"104.2\",\n        },\n{\n            'v': 24226,\n            'f': \"24226\",\n        }],\n [\"TTOO\",\n\"DNK\",\n{\n            'v': 1692497.4,\n            'f': \"1692497.4\",\n        },\n{\n            'v': 2142.4,\n            'f': \"2142.4\",\n        },\n{\n            'v': 148.6,\n            'f': \"148.6\",\n        },\n{\n            'v': 47.5,\n            'f': \"47.5\",\n        },\n{\n            'v': 7.2,\n            'f': \"7.2\",\n        },\n{\n            'v': 77.2,\n            'f': \"77.2\",\n        },\n{\n            'v': 790,\n            'f': \"790\",\n        }],\n [\"TTOO\",\n\"ESP\",\n{\n            'v': 9215873.3,\n            'f': \"9215873.3\",\n        },\n{\n            'v': 1285.9,\n            'f': \"1285.9\",\n        },\n{\n            'v': 93.5,\n            'f': \"93.5\",\n        },\n{\n            'v': 60.8,\n            'f': \"60.8\",\n        },\n{\n            'v': 7.3,\n            'f': \"7.3\",\n        },\n{\n            'v': 80.2,\n            'f': \"80.2\",\n        },\n{\n            'v': 7167,\n            'f': \"7167\",\n        }],\n [\"TTOO\",\n\"FRA\",\n{\n            'v': 29040566.1,\n            'f': \"29040566.1\",\n        },\n{\n            'v': 1407.3,\n            'f': \"1407.3\",\n        },\n{\n            'v': 94.3,\n            'f': \"94.3\",\n        },\n{\n            'v': 47.0,\n            'f': \"47.0\",\n        },\n{\n            'v': 7.6,\n            'f': \"7.6\",\n        },\n{\n            'v': 77.6,\n            'f': \"77.6\",\n        },\n{\n            'v': 20636,\n            'f': \"20636\",\n        }],\n [\"TTOO\",\n\"GBR\",\n{\n            'v': 127793169.0,\n            'f': \"127793169.0\",\n        },\n{\n            'v': 2459.2,\n            'f': \"2459.2\",\n        },\n{\n            'v': 155.6,\n            'f': \"155.6\",\n        },\n{\n            'v': 47.0,\n            'f': \"47.0\",\n        },\n{\n            'v': 7.6,\n            'f': \"7.6\",\n        },\n{\n            'v': 132.8,\n            'f': \"132.8\",\n        },\n{\n            'v': 51966,\n            'f': \"51966\",\n        }],\n [\"TTOO\",\n\"IRL\",\n{\n            'v': 2133794.9,\n            'f': \"2133794.9\",\n        },\n{\n            'v': 2386.8,\n            'f': \"2386.8\",\n        },\n{\n            'v': 147.6,\n            'f': \"147.6\",\n        },\n{\n            'v': 47.0,\n            'f': \"47.0\",\n        },\n{\n            'v': 7.7,\n            'f': \"7.7\",\n        },\n{\n            'v': 108.8,\n            'f': \"108.8\",\n        },\n{\n            'v': 894,\n            'f': \"894\",\n        }],\n [\"TTOO\",\n\"ITA\",\n{\n            'v': 762717.1,\n            'f': \"762717.1\",\n        },\n{\n            'v': 2263.3,\n            'f': \"2263.3\",\n        },\n{\n            'v': 148.8,\n            'f': \"148.8\",\n        },\n{\n            'v': 39.0,\n            'f': \"39.0\",\n        },\n{\n            'v': 7.3,\n            'f': \"7.3\",\n        },\n{\n            'v': 52.4,\n            'f': \"52.4\",\n        },\n{\n            'v': 337,\n            'f': \"337\",\n        }],\n [\"TTOO\",\n\"NLD\",\n{\n            'v': 7739046.2,\n            'f': \"7739046.2\",\n        },\n{\n            'v': 2316.4,\n            'f': \"2316.4\",\n        },\n{\n            'v': 150.8,\n            'f': \"150.8\",\n        },\n{\n            'v': 44.4,\n            'f': \"44.4\",\n        },\n{\n            'v': 7.5,\n            'f': \"7.5\",\n        },\n{\n            'v': 76.6,\n            'f': \"76.6\",\n        },\n{\n            'v': 3341,\n            'f': \"3341\",\n        }],\n [\"TTOO\",\n\"NOR\",\n{\n            'v': 1678628.5,\n            'f': \"1678628.5\",\n        },\n{\n            'v': 2017.6,\n            'f': \"2017.6\",\n        },\n{\n            'v': 143.3,\n            'f': \"143.3\",\n        },\n{\n            'v': 45.5,\n            'f': \"45.5\",\n        },\n{\n            'v': 7.2,\n            'f': \"7.2\",\n        },\n{\n            'v': 66.3,\n            'f': \"66.3\",\n        },\n{\n            'v': 832,\n            'f': \"832\",\n        }],\n [\"TTOO\",\n\"POL\",\n{\n            'v': 6013397.0,\n            'f': \"6013397.0\",\n        },\n{\n            'v': 1702.1,\n            'f': \"1702.1\",\n        },\n{\n            'v': 109.0,\n            'f': \"109.0\",\n        },\n{\n            'v': 38.4,\n            'f': \"38.4\",\n        },\n{\n            'v': 7.6,\n            'f': \"7.6\",\n        },\n{\n            'v': 65.1,\n            'f': \"65.1\",\n        },\n{\n            'v': 3533,\n            'f': \"3533\",\n        }],\n [\"TTOO\",\n\"PRT\",\n{\n            'v': 875374.2,\n            'f': \"875374.2\",\n        },\n{\n            'v': 2124.7,\n            'f': \"2124.7\",\n        },\n{\n            'v': 142.9,\n            'f': \"142.9\",\n        },\n{\n            'v': 45.7,\n            'f': \"45.7\",\n        },\n{\n            'v': 7.0,\n            'f': \"7.0\",\n        },\n{\n            'v': 70.5,\n            'f': \"70.5\",\n        },\n{\n            'v': 412,\n            'f': \"412\",\n        }],\n [\"TTOO\",\n\"SWE\",\n{\n            'v': 3847669.9,\n            'f': \"3847669.9\",\n        },\n{\n            'v': 2043.4,\n            'f': \"2043.4\",\n        },\n{\n            'v': 140.7,\n            'f': \"140.7\",\n        },\n{\n            'v': 48.3,\n            'f': \"48.3\",\n        },\n{\n            'v': 7.4,\n            'f': \"7.4\",\n        },\n{\n            'v': 70.4,\n            'f': \"70.4\",\n        },\n{\n            'v': 1883,\n            'f': \"1883\",\n        }]],\n        columns: [[\"string\", \"Canal\"], [\"string\", \"PaisResidencia\"], [\"number\", \"FacturadoTotal\"], [\"number\", \"FacturadoMedia\"], [\"number\", \"FacturadoXHabMedia\"], [\"number\", \"EdadMedia\"], [\"number\", \"DiasReservaTotalMedia\"], [\"number\", \"DiasEntreReservaEntradaMedia\"], [\"number\", \"Cantidad\"]],\n        columnOptions: [{\"width\": \"1px\", \"className\": \"index_column\"}, {\"width\": \"1px\", \"className\": \"index_column\"}],\n        rowsPerPage: 20,\n        helpUrl: \"https://colab.research.google.com/notebooks/data_table.ipynb\",\n        suppressOutputScrolling: true,\n        minimumWidth: undefined,\n      });\n    ",
            "text/plain": [
              "<google.colab.data_table.DataTable object>"
            ],
            "text/html": [
              "<div>\n",
              "<style scoped>\n",
              "    .dataframe tbody tr th:only-of-type {\n",
              "        vertical-align: middle;\n",
              "    }\n",
              "\n",
              "    .dataframe tbody tr th {\n",
              "        vertical-align: top;\n",
              "    }\n",
              "\n",
              "    .dataframe thead th {\n",
              "        text-align: right;\n",
              "    }\n",
              "</style>\n",
              "<table border=\"1\" class=\"dataframe\">\n",
              "  <thead>\n",
              "    <tr style=\"text-align: right;\">\n",
              "      <th></th>\n",
              "      <th></th>\n",
              "      <th>FacturadoTotal</th>\n",
              "      <th>FacturadoMedia</th>\n",
              "      <th>FacturadoXHabMedia</th>\n",
              "      <th>EdadMedia</th>\n",
              "      <th>DiasReservaTotalMedia</th>\n",
              "      <th>DiasEntreReservaEntradaMedia</th>\n",
              "      <th>Cantidad</th>\n",
              "    </tr>\n",
              "    <tr>\n",
              "      <th>Canal</th>\n",
              "      <th>PaisResidencia</th>\n",
              "      <th></th>\n",
              "      <th></th>\n",
              "      <th></th>\n",
              "      <th></th>\n",
              "      <th></th>\n",
              "      <th></th>\n",
              "      <th></th>\n",
              "    </tr>\n",
              "  </thead>\n",
              "  <tbody>\n",
              "    <tr>\n",
              "      <th rowspan=\"5\" valign=\"top\">AGENCY</th>\n",
              "      <th>AUT</th>\n",
              "      <td>189215.40</td>\n",
              "      <td>1525.90</td>\n",
              "      <td>127.10</td>\n",
              "      <td>49.90</td>\n",
              "      <td>5.80</td>\n",
              "      <td>82.60</td>\n",
              "      <td>124</td>\n",
              "    </tr>\n",
              "    <tr>\n",
              "      <th>BEL</th>\n",
              "      <td>202437.80</td>\n",
              "      <td>2410.00</td>\n",
              "      <td>160.10</td>\n",
              "      <td>45.20</td>\n",
              "      <td>8.00</td>\n",
              "      <td>38.40</td>\n",
              "      <td>84</td>\n",
              "    </tr>\n",
              "    <tr>\n",
              "      <th>CHE</th>\n",
              "      <td>346756.30</td>\n",
              "      <td>2391.40</td>\n",
              "      <td>179.60</td>\n",
              "      <td>47.70</td>\n",
              "      <td>6.70</td>\n",
              "      <td>62.60</td>\n",
              "      <td>145</td>\n",
              "    </tr>\n",
              "    <tr>\n",
              "      <th>DEU</th>\n",
              "      <td>2445326.20</td>\n",
              "      <td>1568.50</td>\n",
              "      <td>117.80</td>\n",
              "      <td>44.20</td>\n",
              "      <td>6.90</td>\n",
              "      <td>68.80</td>\n",
              "      <td>1559</td>\n",
              "    </tr>\n",
              "    <tr>\n",
              "      <th>DNK</th>\n",
              "      <td>212316.10</td>\n",
              "      <td>2081.50</td>\n",
              "      <td>154.50</td>\n",
              "      <td>53.20</td>\n",
              "      <td>6.20</td>\n",
              "      <td>88.80</td>\n",
              "      <td>102</td>\n",
              "    </tr>\n",
              "    <tr>\n",
              "      <th>...</th>\n",
              "      <th>...</th>\n",
              "      <td>...</td>\n",
              "      <td>...</td>\n",
              "      <td>...</td>\n",
              "      <td>...</td>\n",
              "      <td>...</td>\n",
              "      <td>...</td>\n",
              "      <td>...</td>\n",
              "    </tr>\n",
              "    <tr>\n",
              "      <th rowspan=\"5\" valign=\"top\">TTOO</th>\n",
              "      <th>NLD</th>\n",
              "      <td>7739046.20</td>\n",
              "      <td>2316.40</td>\n",
              "      <td>150.80</td>\n",
              "      <td>44.40</td>\n",
              "      <td>7.50</td>\n",
              "      <td>76.60</td>\n",
              "      <td>3341</td>\n",
              "    </tr>\n",
              "    <tr>\n",
              "      <th>NOR</th>\n",
              "      <td>1678628.50</td>\n",
              "      <td>2017.60</td>\n",
              "      <td>143.30</td>\n",
              "      <td>45.50</td>\n",
              "      <td>7.20</td>\n",
              "      <td>66.30</td>\n",
              "      <td>832</td>\n",
              "    </tr>\n",
              "    <tr>\n",
              "      <th>POL</th>\n",
              "      <td>6013397.00</td>\n",
              "      <td>1702.10</td>\n",
              "      <td>109.00</td>\n",
              "      <td>38.40</td>\n",
              "      <td>7.60</td>\n",
              "      <td>65.10</td>\n",
              "      <td>3533</td>\n",
              "    </tr>\n",
              "    <tr>\n",
              "      <th>PRT</th>\n",
              "      <td>875374.20</td>\n",
              "      <td>2124.70</td>\n",
              "      <td>142.90</td>\n",
              "      <td>45.70</td>\n",
              "      <td>7.00</td>\n",
              "      <td>70.50</td>\n",
              "      <td>412</td>\n",
              "    </tr>\n",
              "    <tr>\n",
              "      <th>SWE</th>\n",
              "      <td>3847669.90</td>\n",
              "      <td>2043.40</td>\n",
              "      <td>140.70</td>\n",
              "      <td>48.30</td>\n",
              "      <td>7.40</td>\n",
              "      <td>70.40</td>\n",
              "      <td>1883</td>\n",
              "    </tr>\n",
              "  </tbody>\n",
              "</table>\n",
              "<p>85 rows × 7 columns</p>\n",
              "</div>"
            ]
          },
          "metadata": {}
        },
        {
          "output_type": "display_data",
          "data": {
            "text/plain": [
              "<matplotlib.axes._subplots.AxesSubplot at 0x7ff43ef88610>"
            ]
          },
          "metadata": {}
        },
        {
          "output_type": "stream",
          "name": "stderr",
          "text": [
            "posx and posy should be finite values\n",
            "posx and posy should be finite values\n",
            "posx and posy should be finite values\n",
            "posx and posy should be finite values\n",
            "posx and posy should be finite values\n",
            "posx and posy should be finite values\n",
            "posx and posy should be finite values\n",
            "posx and posy should be finite values\n",
            "posx and posy should be finite values\n"
          ]
        },
        {
          "output_type": "display_data",
          "data": {
            "image/png": "[encoded data removed]",
            "text/plain": [
              "<Figure size 1152x432 with 1 Axes>"
            ]
          },
          "metadata": {
            "needs_background": "light"
          }
        },
        {
          "output_type": "display_data",
          "data": {
            "image/png": "[encoded data removed]",
            "text/plain": [
              "<Figure size 1152x432 with 1 Axes>"
            ]
          },
          "metadata": {
            "needs_background": "light"
          }
        },
        {
          "output_type": "display_data",
          "data": {
            "image/png": "[encoded data removed]",
            "text/plain": [
              "<Figure size 1152x432 with 1 Axes>"
            ]
          },
          "metadata": {
            "needs_background": "light"
          }
        },
        {
          "output_type": "display_data",
          "data": {
            "image/png": "[encoded data removed]",
            "text/plain": [
              "<Figure size 1152x432 with 1 Axes>"
            ]
          },
          "metadata": {
            "needs_background": "light"
          }
        },
        {
          "output_type": "display_data",
          "data": {
            "image/png": "[encoded data removed]",
            "text/plain": [
              "<Figure size 1152x432 with 1 Axes>"
            ]
          },
          "metadata": {
            "needs_background": "light"
          }
        },
        {
          "output_type": "display_data",
          "data": {
            "image/png": "[encoded data removed]",
            "text/plain": [
              "<Figure size 1152x432 with 1 Axes>"
            ]
          },
          "metadata": {
            "needs_background": "light"
          }
        },
        {
          "output_type": "stream",
          "name": "stderr",
          "text": [
            "posx and posy should be finite values\n",
            "posx and posy should be finite values\n",
            "posx and posy should be finite values\n",
            "posx and posy should be finite values\n",
            "posx and posy should be finite values\n",
            "posx and posy should be finite values\n",
            "posx and posy should be finite values\n",
            "posx and posy should be finite values\n",
            "posx and posy should be finite values\n",
            "posx and posy should be finite values\n",
            "posx and posy should be finite values\n",
            "posx and posy should be finite values\n",
            "posx and posy should be finite values\n",
            "posx and posy should be finite values\n",
            "posx and posy should be finite values\n",
            "posx and posy should be finite values\n",
            "posx and posy should be finite values\n",
            "posx and posy should be finite values\n"
          ]
        },
        {
          "output_type": "display_data",
          "data": {
            "image/png": "[encoded data removed]",
            "text/plain": [
              "<Figure size 1152x432 with 1 Axes>"
            ]
          },
          "metadata": {
            "needs_background": "light"
          }
        },
        {
          "output_type": "display_data",
          "data": {
            "image/png": "[encoded data removed]",
            "text/plain": [
              "<Figure size 1152x432 with 1 Axes>"
            ]
          },
          "metadata": {
            "needs_background": "light"
          }
        },
        {
          "output_type": "display_data",
          "data": {
            "image/png": "[encoded data removed]",
            "text/plain": [
              "<Figure size 1152x432 with 1 Axes>"
            ]
          },
          "metadata": {
            "needs_background": "light"
          }
        }
      ]
    },
    {
      "cell_type": "code",
      "metadata": {
        "id": "1vY-mQ0QWLOW"
      },
      "source": [
        "dfBookings.to_csv('dataBookings' + '.csv')"
      ],
      "execution_count": 85,
      "outputs": []
    },
    {
      "cell_type": "code",
      "metadata": {
        "id": "TVxDr0WKXPM3"
      },
      "source": [
        "!cp data.csv \"drive/My Drive/\""
      ],
      "execution_count": null,
      "outputs": []
    }
  ]
}